{
 "cells": [
  {
   "cell_type": "markdown",
   "metadata": {},
   "source": [
    "# Python intro"
   ]
  },
  {
   "cell_type": "markdown",
   "metadata": {},
   "source": [
    "\n",
    "    In this section, we are going to see the basic blocs that structure how we communicate in python and how we can write complex codes in a way that python will be able execute AND that we will be able to understand.\n",
    "    This includes how to declare variable, write functions and use built-in commands that allow us to write algorithms in python ('for' loops, 'if' statements, and more)."
   ]
  },
  {
   "cell_type": "markdown",
   "metadata": {},
   "source": [
    "## Declaring variables\n",
    "    In python declaring a variable "
   ]
  },
  {
   "cell_type": "code",
   "execution_count": 3,
   "metadata": {},
   "outputs": [
    {
     "data": {
      "text/plain": [
       "1"
      ]
     },
     "execution_count": 3,
     "metadata": {},
     "output_type": "execute_result"
    }
   ],
   "source": [
    "#Integers\n",
    "a = 1\n",
    "a"
   ]
  },
  {
   "cell_type": "code",
   "execution_count": 15,
   "metadata": {},
   "outputs": [
    {
     "name": "stdout",
     "output_type": "stream",
     "text": [
      "<class 'int'>\n"
     ]
    }
   ],
   "source": [
    "a = 4\n",
    "a = a*2\n",
    "print(type(a))"
   ]
  },
  {
   "cell_type": "code",
   "execution_count": 17,
   "metadata": {},
   "outputs": [
    {
     "name": "stdout",
     "output_type": "stream",
     "text": [
      "<class 'int'>\n"
     ]
    }
   ],
   "source": [
    "#floats\n",
    "b = 2.\n",
    "b\n",
    "print(type(a))"
   ]
  },
  {
   "cell_type": "code",
   "execution_count": 18,
   "metadata": {},
   "outputs": [
    {
     "name": "stdout",
     "output_type": "stream",
     "text": [
      "<class 'str'>\n"
     ]
    }
   ],
   "source": [
    "#strings\n",
    "s = 'list of letters'\n",
    "s\n",
    "print(type(s))"
   ]
  },
  {
   "cell_type": "code",
   "execution_count": 6,
   "metadata": {},
   "outputs": [
    {
     "data": {
      "text/plain": [
       "[4, 5, 2.0, 'hello', 'world']"
      ]
     },
     "execution_count": 6,
     "metadata": {},
     "output_type": "execute_result"
    }
   ],
   "source": [
    "#lists\n",
    "l = [4,5,2.,'hello', 'world']\n",
    "l"
   ]
  },
  {
   "cell_type": "code",
   "execution_count": 8,
   "metadata": {},
   "outputs": [
    {
     "data": {
      "text/plain": [
       "5"
      ]
     },
     "execution_count": 8,
     "metadata": {},
     "output_type": "execute_result"
    }
   ],
   "source": [
    "#list elements\n",
    "l[1]"
   ]
  },
  {
   "cell_type": "code",
   "execution_count": 12,
   "metadata": {},
   "outputs": [
    {
     "data": {
      "text/plain": [
       "[2.0, 'hello', 'world']"
      ]
     },
     "execution_count": 12,
     "metadata": {},
     "output_type": "execute_result"
    }
   ],
   "source": [
    "#A word on indexing\n",
    "# : means continuation from the preceding index\n",
    "l[2:] "
   ]
  },
  {
   "cell_type": "code",
   "execution_count": 24,
   "metadata": {},
   "outputs": [
    {
     "data": {
      "text/plain": [
       "5"
      ]
     },
     "execution_count": 24,
     "metadata": {},
     "output_type": "execute_result"
    }
   ],
   "source": [
    "# or to the following index\n",
    "l[-4]"
   ]
  },
  {
   "cell_type": "code",
   "execution_count": 25,
   "metadata": {},
   "outputs": [
    {
     "data": {
      "text/plain": [
       "'l'"
      ]
     },
     "execution_count": 25,
     "metadata": {},
     "output_type": "execute_result"
    }
   ],
   "source": [
    "#string are lists of letters:\n",
    "l[-1][3]"
   ]
  },
  {
   "cell_type": "code",
   "execution_count": 26,
   "metadata": {},
   "outputs": [
    {
     "data": {
      "text/plain": [
       "[[1, 4, 6], [6, 12, 7]]"
      ]
     },
     "execution_count": 26,
     "metadata": {},
     "output_type": "execute_result"
    }
   ],
   "source": [
    "# 2-d lists\n",
    "l_2d = [[1,4,6],[6,12,7]]\n",
    "l_2d"
   ]
  },
  {
   "cell_type": "code",
   "execution_count": 27,
   "metadata": {},
   "outputs": [
    {
     "data": {
      "text/plain": [
       "[1, 4, 6]"
      ]
     },
     "execution_count": 27,
     "metadata": {},
     "output_type": "execute_result"
    }
   ],
   "source": [
    "# 2-d list indexing\n",
    "l_2d[0]"
   ]
  },
  {
   "cell_type": "code",
   "execution_count": 28,
   "metadata": {},
   "outputs": [
    {
     "data": {
      "text/plain": [
       "12"
      ]
     },
     "execution_count": 28,
     "metadata": {},
     "output_type": "execute_result"
    }
   ],
   "source": [
    "l_2d[1][1]"
   ]
  },
  {
   "cell_type": "markdown",
   "metadata": {},
   "source": [
    "## operators\n",
    "    Most basic mathematical operations are available in native python. We just need to learn the symbols that correspond to these operations. We are going to see the most common ones, the full list is here:\n",
    "https://data-flair.training/blogs/python-operator/"
   ]
  },
  {
   "cell_type": "code",
   "execution_count": 35,
   "metadata": {},
   "outputs": [],
   "source": [
    "a = 11\n",
    "b = 2."
   ]
  },
  {
   "cell_type": "code",
   "execution_count": 36,
   "metadata": {},
   "outputs": [
    {
     "data": {
      "text/plain": [
       "13.0"
      ]
     },
     "execution_count": 36,
     "metadata": {},
     "output_type": "execute_result"
    }
   ],
   "source": [
    "#addition\n",
    "a + b"
   ]
  },
  {
   "cell_type": "code",
   "execution_count": 37,
   "metadata": {},
   "outputs": [
    {
     "data": {
      "text/plain": [
       "9.0"
      ]
     },
     "execution_count": 37,
     "metadata": {},
     "output_type": "execute_result"
    }
   ],
   "source": [
    "#subtraction\n",
    "a - b"
   ]
  },
  {
   "cell_type": "code",
   "execution_count": 38,
   "metadata": {},
   "outputs": [
    {
     "data": {
      "text/plain": [
       "22.0"
      ]
     },
     "execution_count": 38,
     "metadata": {},
     "output_type": "execute_result"
    }
   ],
   "source": [
    "#multiplication\n",
    "a * b"
   ]
  },
  {
   "cell_type": "code",
   "execution_count": 39,
   "metadata": {},
   "outputs": [
    {
     "data": {
      "text/plain": [
       "5.5"
      ]
     },
     "execution_count": 39,
     "metadata": {},
     "output_type": "execute_result"
    }
   ],
   "source": [
    "#Division\n",
    "a / b"
   ]
  },
  {
   "cell_type": "code",
   "execution_count": 40,
   "metadata": {},
   "outputs": [
    {
     "data": {
      "text/plain": [
       "5.0"
      ]
     },
     "execution_count": 40,
     "metadata": {},
     "output_type": "execute_result"
    }
   ],
   "source": [
    "#floor division\n",
    "a // b"
   ]
  },
  {
   "cell_type": "code",
   "execution_count": 43,
   "metadata": {},
   "outputs": [
    {
     "data": {
      "text/plain": [
       "1.0"
      ]
     },
     "execution_count": 43,
     "metadata": {},
     "output_type": "execute_result"
    }
   ],
   "source": [
    "#Remainder of floor division\n",
    "a % b"
   ]
  },
  {
   "cell_type": "code",
   "execution_count": 44,
   "metadata": {},
   "outputs": [
    {
     "data": {
      "text/plain": [
       "121.0"
      ]
     },
     "execution_count": 44,
     "metadata": {},
     "output_type": "execute_result"
    }
   ],
   "source": [
    "#Power \n",
    "a ** b"
   ]
  },
  {
   "cell_type": "code",
   "execution_count": 45,
   "metadata": {},
   "outputs": [
    {
     "data": {
      "text/plain": [
       "True"
      ]
     },
     "execution_count": 45,
     "metadata": {},
     "output_type": "execute_result"
    }
   ],
   "source": [
    "#Larger than \n",
    "a > b"
   ]
  },
  {
   "cell_type": "code",
   "execution_count": 46,
   "metadata": {},
   "outputs": [
    {
     "data": {
      "text/plain": [
       "False"
      ]
     },
     "execution_count": 46,
     "metadata": {},
     "output_type": "execute_result"
    }
   ],
   "source": [
    "#smaller or equal\n",
    "a <= b"
   ]
  },
  {
   "cell_type": "code",
   "execution_count": 47,
   "metadata": {},
   "outputs": [
    {
     "data": {
      "text/plain": [
       "False"
      ]
     },
     "execution_count": 47,
     "metadata": {},
     "output_type": "execute_result"
    }
   ],
   "source": [
    "#equality\n",
    "a == b"
   ]
  },
  {
   "cell_type": "code",
   "execution_count": 49,
   "metadata": {},
   "outputs": [
    {
     "data": {
      "text/plain": [
       "True"
      ]
     },
     "execution_count": 49,
     "metadata": {},
     "output_type": "execute_result"
    }
   ],
   "source": [
    "#inequality \n",
    "a != b"
   ]
  },
  {
   "cell_type": "markdown",
   "metadata": {},
   "source": [
    "## Built-in functions\n",
    "    Built-in functions are a set of native python functions that provide convenient\n",
    "List of built-in functions in python: https://docs.python.org/3/library/functions.html"
   ]
  },
  {
   "cell_type": "code",
   "execution_count": 52,
   "metadata": {},
   "outputs": [
    {
     "name": "stdout",
     "output_type": "stream",
     "text": [
      "prints string, and variables \n",
      " [1, 4, 3, 9, 12, 3]\n"
     ]
    }
   ],
   "source": [
    "array = [1,4,3,9,12, 3]\n",
    "print('prints string, and variables \\n', array)"
   ]
  },
  {
   "cell_type": "code",
   "execution_count": 53,
   "metadata": {},
   "outputs": [
    {
     "name": "stdout",
     "output_type": "stream",
     "text": [
      "length of the array: 6\n",
      "min of the array: 1\n",
      "max of the array: 12\n",
      "sum of the array elements: 32\n"
     ]
    }
   ],
   "source": [
    "print('length of the array: {}'.format(len(array)))\n",
    "print('min of the array: '+str(min(array)))\n",
    "print('max of the array:', max(array))\n",
    "print('sum of the array elements:', sum(array))"
   ]
  },
  {
   "cell_type": "code",
   "execution_count": 54,
   "metadata": {},
   "outputs": [
    {
     "name": "stdout",
     "output_type": "stream",
     "text": [
      "enumerate is super useful, it returns the elements of an array and their index: \n",
      " (0, 1) (1, 4) (2, 3) (3, 9) (4, 12) (5, 3)\n"
     ]
    }
   ],
   "source": [
    "print('enumerate is super useful, it returns the elements of an array and their index: \\n', *enumerate(array))"
   ]
  },
  {
   "cell_type": "code",
   "execution_count": 55,
   "metadata": {},
   "outputs": [
    {
     "name": "stdout",
     "output_type": "stream",
     "text": [
      "creating an array with of increasing values: range(0, 7)\n"
     ]
    }
   ],
   "source": [
    "print('creating an array with of increasing values:', range(7))"
   ]
  },
  {
   "cell_type": "code",
   "execution_count": 56,
   "metadata": {},
   "outputs": [
    {
     "name": "stdout",
     "output_type": "stream",
     "text": [
      "type of a variable <class 'list'>\n",
      "change the type of a numerical variable from <class 'int'> to <class 'float'>\n"
     ]
    }
   ],
   "source": [
    "print('type of a variable '+str(type(array)))\n",
    "n = -6\n",
    "print('change the type of a numerical variable from {0} to {1}'.format(type(n), type(float(n))))"
   ]
  },
  {
   "cell_type": "markdown",
   "metadata": {},
   "source": [
    "## Indenting\n",
    "    Indent is used in python to define blocks of code executed together inside a compund statement (more about that in the next section). indenting without need will result in errors. interrupting an indent causes a block to end. "
   ]
  },
  {
   "cell_type": "code",
   "execution_count": 63,
   "metadata": {},
   "outputs": [
    {
     "name": "stdout",
     "output_type": "stream",
     "text": [
      "This is false\n",
      "breaking the indent will end the conditional execution\n",
      "whatever the level of indent is,\n",
      "these instructions are executed\n"
     ]
    }
   ],
   "source": [
    "condition = []\n",
    "if condition:\n",
    "    print('if condition is set to True,')\n",
    "    print('every instruction at this level of indent is executed')\n",
    "else: print('This is false')\n",
    "    \n",
    "print('breaking the indent will end the conditional execution')\n",
    "print('whatever the level of indent is,')\n",
    "print('these instructions are executed')"
   ]
  },
  {
   "cell_type": "markdown",
   "metadata": {},
   "source": [
    "Comments are lines not executed by python, that help you and and your collaborators to read a code and make coding easier. Comments are declared by a '#' symbol. I HIGLY RECOMMEND using comments as much as possible! \n",
    "To add comments for code documentations, it is also possible to use '''... '''.\n"
   ]
  },
  {
   "cell_type": "code",
   "execution_count": 66,
   "metadata": {},
   "outputs": [
    {
     "name": "stdout",
     "output_type": "stream",
     "text": [
      "Comments can be inserted between lines\n",
      "or at the end of a line\n",
      "anything written past a hashtag is a comment and is not executed\n",
      "3\n"
     ]
    }
   ],
   "source": [
    "print('Comments can be inserted between lines')\n",
    "# These lines print use instructions for comments\n",
    "print('or at the end of a line') # This one in particular shows how to comment one line\n",
    "print('anything written past a hashtag is a comment and is not executed')\n",
    "a = 3\n",
    "b = 4\n",
    "'''for documentation, \n",
    "anything written between sets of three consecutive apostrophes is considered as a comment.\n",
    "We will see later how this syntaxic feature helps documenting functions. \n",
    "Instructions given here are not executed. a=a+b'''\n",
    "# Now I display a-b to show the difference between what is executed and what is not:\n",
    "print(a)"
   ]
  },
  {
   "cell_type": "markdown",
   "metadata": {},
   "source": [
    "## Compound statements\n",
    "    Here we will see the most common statements: 'for', 'while' and 'if' structures. More exist that you can find in the coursebook."
   ]
  },
  {
   "cell_type": "code",
   "execution_count": 75,
   "metadata": {},
   "outputs": [
    {
     "name": "stdout",
     "output_type": "stream",
     "text": [
      "This planet is saturn\n",
      "This line is always executed\n"
     ]
    }
   ],
   "source": [
    "'''The if statement'''\n",
    "\n",
    "planet = 'Saturn'\n",
    "#Test if the variable planet contains the string Saturn\n",
    "if (planet == 'Saturn'):\n",
    "    print('This planet is saturn')\n",
    "#Brackets after if are optional. However, if should be succeded by a boolean (0,1,True or False)\n",
    "\n",
    "#Writing a statement that is always True\n",
    "if 1:\n",
    "    print('This line is always executed')\n",
    "#Writing a statement that is never executed\n",
    "if False:\n",
    "    print('This line is never executed')"
   ]
  },
  {
   "cell_type": "code",
   "execution_count": 71,
   "metadata": {},
   "outputs": [
    {
     "name": "stdout",
     "output_type": "stream",
     "text": [
      "Gas giant.\n"
     ]
    }
   ],
   "source": [
    "# The full if ... : ... elif ... : ... else: ... structure \n",
    "\n",
    "planet = 'Saturn' #Now write the name of your favourite planet\n",
    "if planet is 'Earth':\n",
    "    print('Rocky planet with liquid water.')\n",
    "elif planet in ['Mercury', 'Venus', 'Mars']:\n",
    "    print('Rocky planet')\n",
    "elif planet in ['Jupiter', 'Saturn', 'Uranus', 'Neptune']:\n",
    "    print('Gas giant.')\n",
    "else:\n",
    "    print('Not a planet.')\n",
    "    "
   ]
  },
  {
   "cell_type": "code",
   "execution_count": 75,
   "metadata": {},
   "outputs": [
    {
     "name": "stdout",
     "output_type": "stream",
     "text": [
      "iteration number0\n",
      "iteration number1\n",
      "iteration number2\n",
      "iteration number3\n",
      "iteration number4\n",
      "iteration number5\n",
      "iteration number6\n",
      "iteration number7\n",
      "iteration number8\n",
      "iteration number9\n"
     ]
    }
   ],
   "source": [
    "'''The while loop\n",
    "Iterates while a statement is True'''\n",
    "i = 0 #A variable that we will use to count the number of iterations in the while loop\n",
    "\n",
    "while i < 10:\n",
    "    print('iteration number'+str(i))\n",
    "    i = i+1\n",
    "# The instruction following while has to be a boolean too\n",
    "\n"
   ]
  },
  {
   "cell_type": "code",
   "execution_count": 76,
   "metadata": {},
   "outputs": [
    {
     "name": "stdout",
     "output_type": "stream",
     "text": [
      "I here Earth is nice in the spring\n",
      "I here Jupiter is nice in the spring\n",
      "I here Mars is nice in the spring\n",
      "I have never been to Melmac, but I hear they make a nice sauteed cat\n"
     ]
    }
   ],
   "source": [
    "planets = ['Mercury', 'Venus', 'Earth', 'Mars', 'Jupiter', 'Saturn', 'Uranus', 'Neptune']#List of solar system planets\n",
    "\n",
    "my_planets = ['Earth', 'Jupiter', 'Mars', 'Melmac']#My list of planets in increasing order of food tastiness\n",
    "i = 0 #Number over which to iterate to select planets\n",
    "\n",
    "#Tests whether planets in a list are in the list of solar system planet\n",
    "while my_planets[i] in planets:\n",
    "    string = 'I here {} is nice in the spring'\n",
    "    print(string.format(my_planets[i]))\n",
    "    i+=1 # this syntax is equivalent to i = i+1 in python\n",
    "else:\n",
    "    string = 'I have never been to {}, but I hear they make a nice sauteed cat'\n",
    "    print(string.format(my_planets[i]))"
   ]
  },
  {
   "cell_type": "code",
   "execution_count": 77,
   "metadata": {},
   "outputs": [
    {
     "name": "stdout",
     "output_type": "stream",
     "text": [
      "M\n",
      "e\n",
      "r\n",
      "c\n",
      "u\n",
      "r\n",
      "y\n"
     ]
    }
   ],
   "source": [
    "'''For loops are very similar to while loops\n",
    "but iterate over elements of a list\n",
    "'''\n",
    "\n",
    "#Print letters of a string\n",
    "word = planets[0]\n",
    "for letter in word:\n",
    "    print(letter)\n"
   ]
  },
  {
   "cell_type": "code",
   "execution_count": 78,
   "metadata": {},
   "outputs": [
    {
     "name": "stdout",
     "output_type": "stream",
     "text": [
      "Mercury is the 1th planet of the solar system\n",
      "Venus is the 2th planet of the solar system\n",
      "Earth is the 3th planet of the solar system\n",
      "Mars is the 4th planet of the solar system\n",
      "Jupiter is the 5th planet of the solar system\n",
      "Saturn is the 6th planet of the solar system\n",
      "Uranus is the 7th planet of the solar system\n",
      "Neptune is the 8th planet of the solar system\n"
     ]
    }
   ],
   "source": [
    "#Print solar system planets with their position in the list (which corresponds to their distance from the Sun)\n",
    "for i, planet in enumerate(planets): #enumerates returns elements of list along with its position in the list\n",
    "    print('{0} is the {1}th planet of the solar system'.format(planet, i+1))"
   ]
  },
  {
   "cell_type": "markdown",
   "metadata": {},
   "source": [
    "## Functions"
   ]
  },
  {
   "cell_type": "markdown",
   "metadata": {},
   "source": [
    "Functions are a list of sequential instructions that can be executed by calling its name along with a list of required or optional input parameter."
   ]
  },
  {
   "cell_type": "code",
   "execution_count": 80,
   "metadata": {},
   "outputs": [],
   "source": [
    "#Defining an addition function\n",
    "def add_numbers(x, y):\n",
    "    '''\n",
    "    Function that adds two input numbers\n",
    "    Parameters\n",
    "    x: float \n",
    "        a number\n",
    "    y: float\n",
    "        a number\n",
    "    Results\n",
    "    c: float\n",
    "        the sum of x and y  \n",
    "    '''\n",
    "    c = x+y\n",
    "    return c"
   ]
  },
  {
   "cell_type": "code",
   "execution_count": 81,
   "metadata": {},
   "outputs": [
    {
     "name": "stdout",
     "output_type": "stream",
     "text": [
      "Help on function add_numbers in module __main__:\n",
      "\n",
      "add_numbers(x, y)\n",
      "    Function that adds two input numbers\n",
      "    Parameters\n",
      "    x: float \n",
      "        a number\n",
      "    y: float\n",
      "        a number\n",
      "    Results\n",
      "    c: float\n",
      "        the sum of x and y\n",
      "\n"
     ]
    }
   ],
   "source": [
    "#any call to add_numbers will execute the instructions in the function's block\n",
    "add_numbers(2,3)\n",
    "help(add_numbers)"
   ]
  },
  {
   "cell_type": "code",
   "execution_count": 83,
   "metadata": {},
   "outputs": [
    {
     "data": {
      "text/plain": [
       "5"
      ]
     },
     "execution_count": 83,
     "metadata": {},
     "output_type": "execute_result"
    }
   ],
   "source": [
    "#A call to a function MUST respect the number of arguments specified in the function definition (in this case, 2 are required)\n",
    "add_numbers(2,3)"
   ]
  },
  {
   "cell_type": "code",
   "execution_count": 84,
   "metadata": {},
   "outputs": [
    {
     "name": "stdout",
     "output_type": "stream",
     "text": [
      "Help on function add_numbers in module __main__:\n",
      "\n",
      "add_numbers(x, y)\n",
      "    Function that adds two input numbers\n",
      "    Parameters\n",
      "    x: float \n",
      "        a number\n",
      "    y: float\n",
      "        a number\n",
      "    Results\n",
      "    c: float\n",
      "        the sum of x and y\n",
      "\n"
     ]
    }
   ],
   "source": [
    "#Illustration of documentation:\n",
    "help(add_numbers)"
   ]
  },
  {
   "cell_type": "code",
   "execution_count": 85,
   "metadata": {},
   "outputs": [],
   "source": [
    "#Input parameters can be optional and set to defalt values\n",
    "def add_numbers2(x, y=2):\n",
    "    '''\n",
    "    Function that adds two input numbers. If only one input is provided, two is added to the input\n",
    "    Parameters\n",
    "    x: float\n",
    "        a number\n",
    "    Optional\n",
    "    y: float \n",
    "        Default value for y is 2\n",
    "    Results\n",
    "    c: float\n",
    "        the sum of x and y  \n",
    "    '''\n",
    "    return x + y"
   ]
  },
  {
   "cell_type": "code",
   "execution_count": 84,
   "metadata": {},
   "outputs": [
    {
     "data": {
      "text/plain": [
       "7"
      ]
     },
     "execution_count": 84,
     "metadata": {},
     "output_type": "execute_result"
    }
   ],
   "source": [
    "#Default run, 2 is added to the input\n",
    "add_numbers2(5)"
   ]
  },
  {
   "cell_type": "code",
   "execution_count": 86,
   "metadata": {},
   "outputs": [
    {
     "data": {
      "text/plain": [
       "15"
      ]
     },
     "execution_count": 86,
     "metadata": {},
     "output_type": "execute_result"
    }
   ],
   "source": [
    "#The optional input is set, which overrights the default value\n",
    "add_numbers2(5, y=10)"
   ]
  },
  {
   "cell_type": "code",
   "execution_count": 87,
   "metadata": {},
   "outputs": [
    {
     "name": "stdout",
     "output_type": "stream",
     "text": [
      "16\n",
      "11\n"
     ]
    }
   ],
   "source": [
    "#Mandatory inputs can be given using the same syntax as optional inputs\n",
    "print(add_numbers2(x= 6, y=10))\n",
    "print(add_numbers2(y=5, x=6))"
   ]
  },
  {
   "cell_type": "code",
   "execution_count": 88,
   "metadata": {},
   "outputs": [
    {
     "data": {
      "text/plain": [
       "9"
      ]
     },
     "execution_count": 88,
     "metadata": {},
     "output_type": "execute_result"
    }
   ],
   "source": [
    "#And conversely\n",
    "add_numbers2(4,5)"
   ]
  },
  {
   "cell_type": "code",
   "execution_count": 89,
   "metadata": {},
   "outputs": [
    {
     "ename": "TypeError",
     "evalue": "add_numbers2() missing 1 required positional argument: 'x'",
     "output_type": "error",
     "traceback": [
      "\u001b[0;31m---------------------------------------------------------------------------\u001b[0m",
      "\u001b[0;31mTypeError\u001b[0m                                 Traceback (most recent call last)",
      "\u001b[0;32m<ipython-input-89-3a5d67d021bd>\u001b[0m in \u001b[0;36m<module>\u001b[0;34m\u001b[0m\n\u001b[1;32m      1\u001b[0m \u001b[0;31m#But they remain mandatory nonetheless\u001b[0m\u001b[0;34m\u001b[0m\u001b[0;34m\u001b[0m\u001b[0;34m\u001b[0m\u001b[0m\n\u001b[0;32m----> 2\u001b[0;31m \u001b[0madd_numbers2\u001b[0m\u001b[0;34m(\u001b[0m\u001b[0my\u001b[0m\u001b[0;34m=\u001b[0m\u001b[0;36m10\u001b[0m\u001b[0;34m)\u001b[0m\u001b[0;34m\u001b[0m\u001b[0;34m\u001b[0m\u001b[0m\n\u001b[0m",
      "\u001b[0;31mTypeError\u001b[0m: add_numbers2() missing 1 required positional argument: 'x'"
     ]
    }
   ],
   "source": [
    "#But they remain mandatory nonetheless \n",
    "add_numbers2(y=10)"
   ]
  },
  {
   "cell_type": "code",
   "execution_count": 89,
   "metadata": {},
   "outputs": [
    {
     "data": {
      "text/plain": [
       "12"
      ]
     },
     "execution_count": 89,
     "metadata": {},
     "output_type": "execute_result"
    }
   ],
   "source": [
    "#and their naming matters\n",
    "add_numbers2(x=10)"
   ]
  },
  {
   "cell_type": "code",
   "execution_count": 90,
   "metadata": {},
   "outputs": [
    {
     "name": "stdout",
     "output_type": "stream",
     "text": [
      "{'x': 20, 'y': 30}\n",
      "50\n"
     ]
    }
   ],
   "source": [
    "#Inputs given as a dictionary\n",
    "d = dict(x=20, y=30)\n",
    "print(d)\n",
    "print(add_numbers2(**d))"
   ]
  },
  {
   "cell_type": "code",
   "execution_count": 1,
   "metadata": {},
   "outputs": [],
   "source": [
    "#More generally, mandatory inputs are given as 'args' and optional inputs are 'kwargs'\n",
    "def myfunc(*args, **kwargs):\n",
    "    '''\n",
    "    Generic definition of a function that prints its inputs\n",
    "    Parameters\n",
    "    args: input parameters\n",
    "    Optional\n",
    "    kwargs: optional parameters\n",
    "    Returns\n",
    "    None\n",
    "    '''\n",
    "    print(args)\n",
    "    print(kwargs)\n",
    "    return None"
   ]
  },
  {
   "cell_type": "code",
   "execution_count": 92,
   "metadata": {},
   "outputs": [
    {
     "name": "stdout",
     "output_type": "stream",
     "text": [
      "(1, 2, 3, 4, 5)\n",
      "{}\n"
     ]
    }
   ],
   "source": [
    "myfunc(1,2,3,4,5)"
   ]
  },
  {
   "cell_type": "code",
   "execution_count": 93,
   "metadata": {},
   "outputs": [
    {
     "name": "stdout",
     "output_type": "stream",
     "text": [
      "(1, 2, 3)\n",
      "{'a': 10, 'b': 20}\n"
     ]
    }
   ],
   "source": [
    "myfunc(1,2,3, a=10, b=20)"
   ]
  },
  {
   "cell_type": "code",
   "execution_count": 99,
   "metadata": {},
   "outputs": [],
   "source": [
    "'''Function names can be given as arguments of another function'''\n",
    "def myfunc_of_funk(funk, init, limit):\n",
    "    result = 0\n",
    "    while result < limit:\n",
    "        result = funk(init, result)\n",
    "        print(result)\n",
    "    pass\n"
   ]
  },
  {
   "cell_type": "code",
   "execution_count": 100,
   "metadata": {},
   "outputs": [
    {
     "name": "stdout",
     "output_type": "stream",
     "text": [
      "3\n",
      "6\n",
      "9\n",
      "12\n",
      "15\n",
      "18\n",
      "21\n"
     ]
    }
   ],
   "source": [
    "myfunc_of_funk(add_numbers2, 3, 20)"
   ]
  },
  {
   "cell_type": "markdown",
   "metadata": {},
   "source": [
    "## Classes\n",
    "(If time permits)"
   ]
  },
  {
   "cell_type": "markdown",
   "metadata": {},
   "source": [
    "    Classes are abstract definitions for object that can take arbitrarilly complex structures. For instance, classes make it possible to associate variables with different nature and to access and perform operations on its elements."
   ]
  },
  {
   "cell_type": "code",
   "execution_count": 118,
   "metadata": {},
   "outputs": [
    {
     "name": "stdout",
     "output_type": "stream",
     "text": [
      "<class 'str'>\n"
     ]
    }
   ],
   "source": [
    "# For instance, strings are objects of a class:\n",
    "s = 'thanks for all the fish'\n",
    "print(type(s))"
   ]
  },
  {
   "cell_type": "code",
   "execution_count": 119,
   "metadata": {},
   "outputs": [
    {
     "data": {
      "text/plain": [
       "['thanks', 'for', 'all', 'the', 'fish']"
      ]
     },
     "execution_count": 119,
     "metadata": {},
     "output_type": "execute_result"
    }
   ],
   "source": [
    "# Class allow to define methods, which are internal functions to use on objects of the class\n",
    "s.split()"
   ]
  },
  {
   "cell_type": "code",
   "execution_count": 134,
   "metadata": {},
   "outputs": [
    {
     "name": "stdout",
     "output_type": "stream",
     "text": [
      "['__class__', '__delattr__', '__dir__', '__doc__', '__eq__', '__format__', '__ge__', '__getattribute__', '__gt__', '__hash__', '__init__', '__init_subclass__', '__le__', '__lt__', '__ne__', '__new__', '__reduce__', '__reduce_ex__', '__repr__', '__setattr__', '__sizeof__', '__str__', '__subclasshook__']\n"
     ]
    }
   ],
   "source": [
    "#Here, split() and upper() are methods of the str class. \n",
    "s.upper()"
   ]
  },
  {
   "cell_type": "markdown",
   "metadata": {},
   "source": [
    "### Now let's see how classes are built"
   ]
  },
  {
   "cell_type": "code",
   "execution_count": 537,
   "metadata": {},
   "outputs": [],
   "source": [
    "# In the following example, we declare a class of objects called Coord.\n",
    "class Coord(): #This is how to declare a class\n",
    "    '''\n",
    "    The coord class allow to declare coordinates in the 2-D plane. \n",
    "    We should be able to compute the distance from the point to the center\n",
    "    and to add coordinates together.\n",
    "    attributes\n",
    "    x: float\n",
    "        a number for coordinate along the x axis\n",
    "    y: float\n",
    "        a number for coordinate along the y axis\n",
    "    name: string \n",
    "        name of the point at coordinates (x,y)\n",
    "    methods\n",
    "        distance_from_origin: returns the distance from a coord object to the origin\n",
    "        __add__: adds two coordinates together axis-wise \n",
    "    '''\n",
    "    #This description will be stored in the __doc__ attribute\n",
    "    def __init__(self, x, y, name = ''): # This is the init function, it defines the attributes of the class\n",
    "        #I do not put a description here because this is a default method \n",
    "        # that defines the attributes described in the class descriptor\n",
    "        print('I am running the constructor for the {} class!'.format(type(self))) # Lets you know when the initialisation is ran\n",
    "        self.x = x #sets x as an attribute of the class coord\n",
    "        self.y = y #sets y as an attribute of the class coord\n",
    "        self.name = name\n",
    "        assert type(name) is str\n",
    "        \n",
    "    def distance_from_origin(self):\n",
    "        '''\n",
    "        Computes the distance between the origin and the Coord object\n",
    "        Parameters\n",
    "            self: the Coord object with its attributes and method\n",
    "        Returns\n",
    "        result: float\n",
    "            the euclidean distance between the Coord object and the origin\n",
    "        '''\n",
    "        return (self.x**2 + self.y**2)**0.5\n",
    "    \n",
    "    def get_coord(self):\n",
    "        '''\n",
    "        Convenience function that returns the coordinates of an object\n",
    "        Parameters\n",
    "        self\n",
    "        Returns\n",
    "        (x,y): tuple\n",
    "            returns the coordinates of an object as a tuple\n",
    "        '''\n",
    "        return (self.x, self.y)\n",
    "\n",
    "    def distance_from_coord(self, coord):\n",
    "        '''\n",
    "        Computes the distance between to another Coord object\n",
    "        Parameters\n",
    "        self: \n",
    "            the Coord object with its attributes and method\n",
    "        coord: Coord object\n",
    "            a coord object from which the distance is to be computed\n",
    "        Returns\n",
    "        result: float \n",
    "            the euclidean distance between the Coord object and the origin\n",
    "        '''\n",
    "        assert type(coord) is Coord, 'Must add another Coord' #This line makes sure that the other variable is a coord object\n",
    "        \n",
    "        return ((self.x-coord.x)**2 + (self.y-coord.y)**2)**0.5\n",
    "    \n",
    "    def __add__(self, other):\n",
    "        '''\n",
    "        Coordinate-wise addition of another coordinate object\n",
    "        Parameters\n",
    "        other: Coord object\n",
    "        Returns\n",
    "        Coord: Coord object\n",
    "            a coordinate object which coordinates are the sum of the input Coord objects\n",
    "        '''\n",
    "        # Note, the __add__\n",
    "        assert type(other) is Coord, 'Must add another Coord' #This line makes sure that the other variable is a coord object\n",
    "    \n",
    "        newx = self.x + other.x\n",
    "        newy = self.y + other.y\n",
    "        return Coord(newx, newy, self.name)\n",
    "    "
   ]
  },
  {
   "cell_type": "code",
   "execution_count": 536,
   "metadata": {},
   "outputs": [
    {
     "name": "stdout",
     "output_type": "stream",
     "text": [
      "I am running the constructor for the <class '__main__.Coord'> class!\n",
      "<class '__main__.Coord'>\n",
      "\n",
      "    The coord class allow to declare coordinates in the 2-D plane. \n",
      "    We should be able to compute the distance from the point to the center\n",
      "    and to add coordinates together.\n",
      "    attributes:\n",
      "        'x': a number for coordinate along the x axis\n",
      "        'y': a number for coordinate along the y axis\n",
      "        'name': name of the point at coordinates (x,y)\n",
      "    methods:\n",
      "        distance_from_origin: returns the distance from a coord object to the origin\n",
      "        __add__: adds two coordinates together axis-wise \n",
      "    \n"
     ]
    }
   ],
   "source": [
    "# An object is declared as follows:\n",
    "c = Coord(7,0, 'No return')\n",
    "print(type(c))\n",
    "#NOtice that declaring an object runs its __init__() method \n",
    "print(c.__doc__)"
   ]
  },
  {
   "cell_type": "code",
   "execution_count": 516,
   "metadata": {},
   "outputs": [
    {
     "ename": "AssertionError",
     "evalue": "Must add another Coord",
     "output_type": "error",
     "traceback": [
      "\u001b[0;31m---------------------------------------------------------------------------\u001b[0m",
      "\u001b[0;31mAssertionError\u001b[0m                            Traceback (most recent call last)",
      "\u001b[0;32m<ipython-input-516-61650af9fb6b>\u001b[0m in \u001b[0;36m<module>\u001b[0;34m\u001b[0m\n\u001b[1;32m      1\u001b[0m \u001b[0;31m# Try to sum a coord object with a number\u001b[0m\u001b[0;34m\u001b[0m\u001b[0;34m\u001b[0m\u001b[0;34m\u001b[0m\u001b[0m\n\u001b[0;32m----> 2\u001b[0;31m \u001b[0mc\u001b[0m \u001b[0;34m+\u001b[0m \u001b[0;36m2\u001b[0m\u001b[0;34m\u001b[0m\u001b[0;34m\u001b[0m\u001b[0m\n\u001b[0m",
      "\u001b[0;32m<ipython-input-514-d366cf95f787>\u001b[0m in \u001b[0;36m__add__\u001b[0;34m(self, other)\u001b[0m\n\u001b[1;32m     65\u001b[0m         '''\n\u001b[1;32m     66\u001b[0m         \u001b[0;31m# Note, the __add__\u001b[0m\u001b[0;34m\u001b[0m\u001b[0;34m\u001b[0m\u001b[0;34m\u001b[0m\u001b[0m\n\u001b[0;32m---> 67\u001b[0;31m         \u001b[0;32massert\u001b[0m \u001b[0mtype\u001b[0m\u001b[0;34m(\u001b[0m\u001b[0mother\u001b[0m\u001b[0;34m)\u001b[0m \u001b[0;32mis\u001b[0m \u001b[0mCoord\u001b[0m\u001b[0;34m,\u001b[0m \u001b[0;34m'Must add another Coord'\u001b[0m \u001b[0;31m#This line makes sure that the other variable is a coord object\u001b[0m\u001b[0;34m\u001b[0m\u001b[0;34m\u001b[0m\u001b[0m\n\u001b[0m\u001b[1;32m     68\u001b[0m \u001b[0;34m\u001b[0m\u001b[0m\n\u001b[1;32m     69\u001b[0m         \u001b[0mnewx\u001b[0m \u001b[0;34m=\u001b[0m \u001b[0mself\u001b[0m\u001b[0;34m.\u001b[0m\u001b[0mx\u001b[0m \u001b[0;34m+\u001b[0m \u001b[0mother\u001b[0m\u001b[0;34m.\u001b[0m\u001b[0mx\u001b[0m\u001b[0;34m\u001b[0m\u001b[0;34m\u001b[0m\u001b[0m\n",
      "\u001b[0;31mAssertionError\u001b[0m: Must add another Coord"
     ]
    }
   ],
   "source": [
    "# Try to sum a coord object with a number\n",
    "c + 2"
   ]
  },
  {
   "cell_type": "code",
   "execution_count": 517,
   "metadata": {},
   "outputs": [
    {
     "name": "stdout",
     "output_type": "stream",
     "text": [
      "I am running the constructor for the <class '__main__.Coord'> class!\n",
      "I am running the constructor for the <class '__main__.Coord'> class!\n",
      "result of the addition is a <class '__main__.Coord'> object withh coordinates (17, 20)\n"
     ]
    }
   ],
   "source": [
    "# Actually adding coordinates\n",
    "c2 = Coord(10,20)\n",
    "c3 = c + c2\n",
    "print('result of the addition is a {} object withh coordinates {}'.format(type(c3), c3.get_coord()))\n",
    "# Important note: notice here that when using the '+' symbol, python actually did:\n",
    "#  c.__add__(c2). Both notations are equivalent."
   ]
  },
  {
   "cell_type": "code",
   "execution_count": 518,
   "metadata": {},
   "outputs": [
    {
     "data": {
      "text/plain": [
       "(17, 20)"
      ]
     },
     "execution_count": 518,
     "metadata": {},
     "output_type": "execute_result"
    }
   ],
   "source": [
    "# Accessing attributes of a class\n",
    "c3.x, c3.y"
   ]
  },
  {
   "cell_type": "code",
   "execution_count": 519,
   "metadata": {},
   "outputs": [
    {
     "data": {
      "text/plain": [
       "(7, 0)"
      ]
     },
     "execution_count": 519,
     "metadata": {},
     "output_type": "execute_result"
    }
   ],
   "source": [
    "c.x, c.y"
   ]
  },
  {
   "cell_type": "code",
   "execution_count": 520,
   "metadata": {},
   "outputs": [
    {
     "name": "stdout",
     "output_type": "stream",
     "text": [
      "Coordinates: (7, 0)\n",
      "Name: No return\n",
      "Distance from the origin:  22.360679774997898\n"
     ]
    }
   ],
   "source": [
    "#Computes the distance from origin\n",
    "c.distance_from_origin()\n",
    "print('Coordinates:', c.get_coord())\n",
    "print('Name: '+c.name)\n",
    "print('Distance from the origin: ',c.distance_from_coord(c3))"
   ]
  },
  {
   "cell_type": "markdown",
   "metadata": {},
   "source": [
    "### Inheritance\n",
    "(That's if we REALLY have time)"
   ]
  },
  {
   "cell_type": "markdown",
   "metadata": {},
   "source": [
    "Inheritance allows to declare classes that use attributes and methods declared in other classes and expand on these. \n",
    "By default, all classes inherit from python's built-in class 'object' with built-in methods: https://docs.python.org/3/reference/datamodel.html#special-method-names.\n",
    "Inheritance is declared in python by using the parent class as the argument of a new inheriting class. For instance, in the following section, we want the class 'Segment' to inherits from 'Coord'. We will therefore declare it as:\n",
    "\n",
    "     class Segment(Coord):\n",
    "     ...\n",
    "     \n",
    "Strictly speaking, since all classes inherit by default from 'object', the formal way to declare a class such as 'Coord' is:\n",
    "\n",
    "     class Coord(object):\n",
    "     ...\n",
    "     \n",
    "But because 'object' is the default parent class our life is made easier by just ignoring it."
   ]
  },
  {
   "cell_type": "code",
   "execution_count": 521,
   "metadata": {},
   "outputs": [
    {
     "name": "stdout",
     "output_type": "stream",
     "text": [
      "methods in object: ['__class__', '__delattr__', '__dir__', '__doc__', '__eq__', '__format__', '__ge__', '__getattribute__', '__gt__', '__hash__', '__init__', '__init_subclass__', '__le__', '__lt__', '__ne__', '__new__', '__reduce__', '__reduce_ex__', '__repr__', '__setattr__', '__sizeof__', '__str__', '__subclasshook__']\n",
      "\n",
      "methods in Coord: ['__add__', '__class__', '__delattr__', '__dict__', '__dir__', '__doc__', '__eq__', '__format__', '__ge__', '__getattribute__', '__gt__', '__hash__', '__init__', '__init_subclass__', '__le__', '__lt__', '__module__', '__ne__', '__new__', '__reduce__', '__reduce_ex__', '__repr__', '__setattr__', '__sizeof__', '__str__', '__subclasshook__', '__weakref__', 'distance_from_coord', 'distance_from_origin', 'get_coord', 'name', 'x', 'y']\n"
     ]
    }
   ],
   "source": [
    "# Let's list the methods of object:\n",
    "print('methods in object:', dir(object))\n",
    "# To show the inheritance, let's see the methods in Coord\n",
    "print('\\nmethods in Coord:', dir(c))\n",
    "# All the methods in 'object' are also methods in 'Coord' due to the inheritance"
   ]
  },
  {
   "cell_type": "code",
   "execution_count": 2,
   "metadata": {},
   "outputs": [
    {
     "ename": "NameError",
     "evalue": "name 'Coord' is not defined",
     "output_type": "error",
     "traceback": [
      "\u001b[0;31m---------------------------------------------------------------------------\u001b[0m",
      "\u001b[0;31mNameError\u001b[0m                                 Traceback (most recent call last)",
      "\u001b[0;32m<ipython-input-2-def06b11f463>\u001b[0m in \u001b[0;36m<module>\u001b[0;34m\u001b[0m\n\u001b[1;32m      2\u001b[0m \u001b[0;32mimport\u001b[0m \u001b[0mnumpy\u001b[0m \u001b[0;32mas\u001b[0m \u001b[0mnp\u001b[0m\u001b[0;34m\u001b[0m\u001b[0;34m\u001b[0m\u001b[0m\n\u001b[1;32m      3\u001b[0m \u001b[0;34m\u001b[0m\u001b[0m\n\u001b[0;32m----> 4\u001b[0;31m \u001b[0;32mclass\u001b[0m \u001b[0mSegment\u001b[0m\u001b[0;34m(\u001b[0m\u001b[0mCoord\u001b[0m\u001b[0;34m)\u001b[0m\u001b[0;34m:\u001b[0m\u001b[0;34m\u001b[0m\u001b[0;34m\u001b[0m\u001b[0m\n\u001b[0m\u001b[1;32m      5\u001b[0m     '''\n\u001b[1;32m      6\u001b[0m     \u001b[0mSegment\u001b[0m \u001b[0;32mclass\u001b[0m \u001b[0minherits\u001b[0m \u001b[0;32mfrom\u001b[0m \u001b[0mCoords\u001b[0m \u001b[0;32mand\u001b[0m \u001b[0mdefines\u001b[0m \u001b[0ma\u001b[0m \u001b[0mline\u001b[0m \u001b[0mcrossing\u001b[0m \u001b[0mpoint\u001b[0m \u001b[0mat\u001b[0m \u001b[0mcoordinate\u001b[0m \u001b[0;34m(\u001b[0m\u001b[0mx\u001b[0m\u001b[0;34m,\u001b[0m\u001b[0my\u001b[0m\u001b[0;34m)\u001b[0m \u001b[0;32mwith\u001b[0m \u001b[0man\u001b[0m \u001b[0mangle\u001b[0m \u001b[0mi\u001b[0m \u001b[0;32mand\u001b[0m \u001b[0ma\u001b[0m \u001b[0mlength\u001b[0m \u001b[0ml\u001b[0m\u001b[0;34m.\u001b[0m\u001b[0;34m\u001b[0m\u001b[0;34m\u001b[0m\u001b[0m\n",
      "\u001b[0;31mNameError\u001b[0m: name 'Coord' is not defined"
     ]
    }
   ],
   "source": [
    "#Let us define a class the inhertis from 'Coord'\n",
    "import numpy as np\n",
    "\n",
    "class Segment(Coord):\n",
    "    '''\n",
    "    Segment class inherits from Coords and defines a line crossing point at coordinate (x,y) with an angle i and a length l.\n",
    "    attributes:\n",
    "        x, y: coordinates\n",
    "        name: name of the line\n",
    "        i: angle \n",
    "        l: length of the segment\n",
    "    '''\n",
    "    def __init__(self, x, y, i, d, name = ''):\n",
    "        super().__init__(x, y, name= name)\n",
    "        #The super function allows to use the __init__() method from the class Segment inherits from\n",
    "        #Only the attributes specific to Segment need to be treaed in this __init__()\n",
    "        #Although attributes initialisation inherited from Coord can be overwritten \n",
    "        self.i = i\n",
    "        self.d = d\n",
    "        self.count_p = 0 # attribute designed to count the number of points already sampled from the segment\n",
    "        \n",
    "    \n",
    "    def get_segment(self):\n",
    "        '''\n",
    "        Returns the coordinates of the extremities of the segment (useful for drawing)\n",
    "        Returns\n",
    "        extremities: tuple \n",
    "            tuple of form ((x_min, x_max),(y_min, y_max)) with the extremities of the segment.\n",
    "        '''\n",
    "        x_min = self.x-self.d/2.*np.cos(self.i)\n",
    "        x_max = self.x+self.d/2.*np.cos(self.i)\n",
    "        y_min = self.y-self.d/2.*np.sin(self.i)\n",
    "        y_max = self.y+self.d/2.*np.sin(self.i)\n",
    "        return ((x_min, x_max),(y_min, y_max))\n",
    "    \n",
    "    def point_on_segment(self, dist, pname = None):\n",
    "        '''\n",
    "        returns a point on the segment at distance 'dist' as a Coord object\n",
    "        Parameters\n",
    "        dist: float between -1 and 1\n",
    "            position of the point relative to (x,y). 0 is the position (x,y), 1 is the extremity of the segment.\n",
    "            Negative values corresponds to a point in the -self.i direction\n",
    "        Optional:\n",
    "        pname: string\n",
    "            names of the Coord to return. Default is'p' concatenated to the line's name and the number of points already drawn\n",
    "        Returns\n",
    "        pcoord: Coord object\n",
    "            a Coord object on the segment at fractional distance 'dist' from the center\n",
    "        '''\n",
    "        x = self.x+dist*self.d/2.*np.cos(self.i)\n",
    "        y = self.y+dist*self.d/2.*np.sin(self.i)\n",
    "        if pname == None:\n",
    "            pname = 'p'+str(self.count_p)+self.name\n",
    "        self.count_p += 1\n",
    "    \n",
    "        return Coord(x, y, pname)\n",
    "    \n",
    "    def is_on_the_line(self, coord):\n",
    "        '''\n",
    "        Tests whether the coordinates of a Coord object is on the Segment\n",
    "        Parameters\n",
    "        Coord: Coord object\n",
    "            A Coord object for which we want to find out wether it is on the segment\n",
    "        Returns\n",
    "        Test: boolean \n",
    "            set to True if Coord has coordinates on the Segment.\n",
    "        '''\n",
    "        distance = self.distance_from_coord(coord) #Thanks to inheritance, we can use methods from Coord\n",
    "        xd = (self.x - coord.x)\n",
    "        yd = (self.y - coord.y)\n",
    "        angle = np.arctan(yd/xd)\n",
    "        \n",
    "        if (distance<self.d/2.) and (np.abs((angle ) - self.i) < 0.0001):\n",
    "            Test = True\n",
    "        else:\n",
    "            Test = False\n",
    "        return Test\n",
    "        \n"
   ]
  },
  {
   "cell_type": "code",
   "execution_count": 527,
   "metadata": {},
   "outputs": [
    {
     "name": "stdout",
     "output_type": "stream",
     "text": [
      "I am running the constructor for the <class '__main__.Segment'> class!\n",
      "['__add__', '__class__', '__delattr__', '__dict__', '__dir__', '__doc__', '__eq__', '__format__', '__ge__', '__getattribute__', '__gt__', '__hash__', '__init__', '__init_subclass__', '__le__', '__lt__', '__module__', '__ne__', '__new__', '__reduce__', '__reduce_ex__', '__repr__', '__setattr__', '__sizeof__', '__str__', '__subclasshook__', '__weakref__', 'count_p', 'd', 'distance_from_coord', 'distance_from_origin', 'get_coord', 'get_segment', 'i', 'is_on_the_line', 'name', 'point_on_segment', 'x', 'y']\n"
     ]
    }
   ],
   "source": [
    "#Let's declare a Segment:\n",
    "seg = Segment(5, -2, -np.pi/3, 8, name = 'trajectory')\n",
    "print(dir(seg)) # We now see the methods from Coord as well as those from Segment."
   ]
  },
  {
   "cell_type": "markdown",
   "metadata": {},
   "source": [
    "Notice that declaring a Segment prints the constructor sentence, whereas the line for this print is not in the __init__ of Segment. This is due to the call to 'super()', which executes the __init__ from the parent function."
   ]
  },
  {
   "cell_type": "code",
   "execution_count": 528,
   "metadata": {},
   "outputs": [
    {
     "data": {
      "text/plain": [
       "False"
      ]
     },
     "execution_count": 528,
     "metadata": {},
     "output_type": "execute_result"
    }
   ],
   "source": [
    "#Test whether a coordinate previously declared is on the line:\n",
    "seg.is_on_the_line(c)"
   ]
  },
  {
   "cell_type": "code",
   "execution_count": 531,
   "metadata": {},
   "outputs": [
    {
     "name": "stdout",
     "output_type": "stream",
     "text": [
      "0\n",
      "I am running the constructor for the <class '__main__.Coord'> class!\n",
      "1\n",
      "is point c_seg on the line? \n",
      " True\n"
     ]
    }
   ],
   "source": [
    "#Draw a point from the segment\n",
    "seg.count_p = 0\n",
    "print(seg.count_p)\n",
    "c_seg = seg.point_on_segment(-0.3)\n",
    "print(seg.count_p)\n",
    "print('is point c_seg on the line? \\n', seg.is_on_the_line(c_seg))"
   ]
  },
  {
   "cell_type": "code",
   "execution_count": 532,
   "metadata": {},
   "outputs": [
    {
     "data": {
      "image/png": "[encoded data removed]",
      "text/plain": [
       "<Figure size 432x288 with 1 Axes>"
      ]
     },
     "metadata": {
      "needs_background": "light"
     },
     "output_type": "display_data"
    }
   ],
   "source": [
    "#Display the scene, requires the matplotlib introduction\n",
    "import matplotlib.pyplot as plt\n",
    "\n",
    "plt.plot(c.get_coord()[0], c.get_coord()[1], 'ob')\n",
    "#Here, I will use the get_coord method of segment seg. Since Segment inherits from Coord, it inherits all its methods.\n",
    "plt.plot(seg.get_coord()[0], seg.get_coord()[1], 'xr')\n",
    "plt.plot(c_seg.get_coord()[0], c_seg.get_coord()[1], 'og')\n",
    "plt.plot(seg.get_segment()[0], seg.get_segment()[1], 'r')\n",
    "plt.show()"
   ]
  }
 ],
 "metadata": {
  "kernelspec": {
   "display_name": "Python 3",
   "language": "python",
   "name": "python3"
  },
  "language_info": {
   "codemirror_mode": {
    "name": "ipython",
    "version": 3
   },
   "file_extension": ".py",
   "mimetype": "text/x-python",
   "name": "python",
   "nbconvert_exporter": "python",
   "pygments_lexer": "ipython3",
   "version": "3.7.3"
  }
 },
 "nbformat": 4,
 "nbformat_minor": 2
}
