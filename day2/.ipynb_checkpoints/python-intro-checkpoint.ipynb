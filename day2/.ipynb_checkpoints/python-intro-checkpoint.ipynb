{
 "cells": [
  {
   "cell_type": "markdown",
   "metadata": {},
   "source": [
    "# Python intro"
   ]
  },
  {
   "cell_type": "markdown",
   "metadata": {},
   "source": [
    "\n",
    "    In this section, we are going to see the basic blocs that structure how we communicate in python and how we can write complex codes in a way that python will be able execute AND that we will be able to understand.\n",
    "    This includes how to write functions and how to use built-in commands that allow us to write algorithms in python ('for' loops, 'if' statements, and more)."
   ]
  },
  {
   "cell_type": "markdown",
   "metadata": {},
   "source": [
    "## Blocks"
   ]
  },
  {
   "cell_type": "code",
   "execution_count": 71,
   "metadata": {},
   "outputs": [
    {
     "name": "stdout",
     "output_type": "stream",
     "text": [
      "breaking the indent will end the conditional execution\n",
      "whatever the level of indent is,\n",
      " these instructions are executed\n"
     ]
    }
   ],
   "source": [
    "condition = False\n",
    "if condition is True:\n",
    "    print('if condition is set to True,')\n",
    "    print('every instruction at this level of indent is executed')\n",
    "    \n",
    "print('breaking the indent will end the conditional execution')\n",
    "print('whatever the level of indent is,')\n",
    "print('these instructions are executed')"
   ]
  },
  {
   "cell_type": "markdown",
   "metadata": {},
   "source": [
    "Comments are lines not executed by python, that help you and and your collaborators to read a code and make coding easier. Comments are declared by a '#' symbol. I HIGLY RECOMMEND using comments as much as possible! \n",
    "To add comments for code documentations, it is also possible to use '''... '''.\n"
   ]
  },
  {
   "cell_type": "code",
   "execution_count": 72,
   "metadata": {},
   "outputs": [
    {
     "name": "stdout",
     "output_type": "stream",
     "text": [
      "Comments can be inserted between lines\n",
      "or at the end of a line\n",
      "anything written past a hashtag is a comment and is not executed\n",
      "-1\n"
     ]
    }
   ],
   "source": [
    "print('Comments can be inserted between lines')\n",
    "# These lines print use instructions for comments\n",
    "print('or at the end of a line') # This one in particular shows how to comment one line\n",
    "print('anything written past a hashtag is a comment and is not executed')\n",
    "a = 3\n",
    "b = 4\n",
    "'''for documentation, \n",
    "anything written between sets of three consecutive apostrophes is considered as a comment.\n",
    "We will see later how this syntaxic feature helps documenting functions. \n",
    "Instructions given here are not executed. print(a+b)'''\n",
    "# Now I display a-b to show the difference between what is executed and what is not:\n",
    "print(a-b)"
   ]
  },
  {
   "cell_type": "markdown",
   "metadata": {},
   "source": [
    "## Compound statements"
   ]
  },
  {
   "cell_type": "markdown",
   "metadata": {},
   "source": [
    "Here we will see the most common statements: 'for', 'while' and 'if' structures. More exist that you can find in the coursebook."
   ]
  },
  {
   "cell_type": "code",
   "execution_count": 73,
   "metadata": {},
   "outputs": [
    {
     "name": "stdout",
     "output_type": "stream",
     "text": [
      "This planet is saturn\n",
      "This line is always executed\n"
     ]
    }
   ],
   "source": [
    "'''The if statement'''\n",
    "\n",
    "planet = 'Saturn'\n",
    "#Test if the variable planet contains the string Saturn\n",
    "if (planet == 'Saturn'):\n",
    "    print('This planet is saturn')\n",
    "#Brackets after if are optional. However, if should be succeded by a boolean (0,1,True or False)\n",
    "\n",
    "#Writing a statement that is always True\n",
    "if 1:\n",
    "    print('This line is always executed')\n",
    "#Writing a statement that is never executed\n",
    "if False:\n",
    "    print('This line is never executed')\n",
    "    \n"
   ]
  },
  {
   "cell_type": "code",
   "execution_count": 74,
   "metadata": {},
   "outputs": [
    {
     "ename": "SyntaxError",
     "evalue": "invalid syntax (<ipython-input-74-e1d016532e29>, line 3)",
     "output_type": "error",
     "traceback": [
      "\u001b[0;36m  File \u001b[0;32m\"<ipython-input-74-e1d016532e29>\"\u001b[0;36m, line \u001b[0;32m3\u001b[0m\n\u001b[0;31m    planet = #Now write the name of your favourite planet\u001b[0m\n\u001b[0m                                                         ^\u001b[0m\n\u001b[0;31mSyntaxError\u001b[0m\u001b[0;31m:\u001b[0m invalid syntax\n"
     ]
    }
   ],
   "source": [
    "# The full if ... : elif ... : else: structure \n",
    "\n",
    "planet = #Now write the name of your favourite planet\n",
    "if planet is 'Earth':\n",
    "    print('Rocky planet with liquid water.')\n",
    "elif planet in ['Mercury', 'Venus', 'Mars']:\n",
    "    print('Rocky planet')\n",
    "elif planet in ['Jupiter', 'Saturn', 'Uranus', 'Neptune']:\n",
    "    print('Gas giant.')\n",
    "else:\n",
    "    print('Not a planet.')\n",
    "    "
   ]
  },
  {
   "cell_type": "code",
   "execution_count": 75,
   "metadata": {},
   "outputs": [
    {
     "name": "stdout",
     "output_type": "stream",
     "text": [
      "iteration number0\n",
      "iteration number1\n",
      "iteration number2\n",
      "iteration number3\n",
      "iteration number4\n",
      "iteration number5\n",
      "iteration number6\n",
      "iteration number7\n",
      "iteration number8\n",
      "iteration number9\n"
     ]
    }
   ],
   "source": [
    "'''The while loop\n",
    "Iterates while a statement is True'''\n",
    "i = 0 #A variable that we will use to count the number of iterations in the while loop\n",
    "\n",
    "while i < 10:\n",
    "    print('iteration number'+str(i))\n",
    "    i = i+1\n",
    "# The instruction following while has to be a boolean too\n",
    "\n"
   ]
  },
  {
   "cell_type": "code",
   "execution_count": 76,
   "metadata": {},
   "outputs": [
    {
     "name": "stdout",
     "output_type": "stream",
     "text": [
      "I here Earth is nice in the spring\n",
      "I here Jupiter is nice in the spring\n",
      "I here Mars is nice in the spring\n",
      "I have never been to Melmac, but I hear they make a nice sauteed cat\n"
     ]
    }
   ],
   "source": [
    "planets = ['Mercury', 'Venus', 'Earth', 'Mars', 'Jupiter', 'Saturn', 'Uranus', 'Neptune']#List of solar system planets\n",
    "\n",
    "my_planets = ['Earth', 'Jupiter', 'Mars', 'Melmac']#My list of planets in increasing order of food tastiness\n",
    "i = 0 #Number over which to iterate to select planets\n",
    "\n",
    "#Tests whether planets in a list are in the list of solar system planet\n",
    "while my_planets[i] in planets:\n",
    "    string = 'I here {} is nice in the spring'\n",
    "    print(string.format(my_planets[i]))\n",
    "    i+=1 # this syntax is equivalent to i = i+1 in python\n",
    "else:\n",
    "    string = 'I have never been to {}, but I hear they make a nice sauteed cat'\n",
    "    print(string.format(my_planets[i]))"
   ]
  },
  {
   "cell_type": "code",
   "execution_count": 101,
   "metadata": {},
   "outputs": [
    {
     "name": "stdout",
     "output_type": "stream",
     "text": [
      "M\n",
      "e\n",
      "r\n",
      "c\n",
      "u\n",
      "r\n",
      "y\n"
     ]
    }
   ],
   "source": [
    "'''For loops are very similar to while loops\n",
    "but iterate over elements of a list\n",
    "'''\n",
    "\n",
    "#Print letters of a string\n",
    "word = planets[0]\n",
    "for letter in word:\n",
    "    print(letter)\n"
   ]
  },
  {
   "cell_type": "code",
   "execution_count": 102,
   "metadata": {},
   "outputs": [
    {
     "name": "stdout",
     "output_type": "stream",
     "text": [
      "Mercury is the 1th planet of the solar system\n",
      "Venus is the 2th planet of the solar system\n",
      "Earth is the 3th planet of the solar system\n",
      "Mars is the 4th planet of the solar system\n",
      "Jupiter is the 5th planet of the solar system\n",
      "Saturn is the 6th planet of the solar system\n",
      "Uranus is the 7th planet of the solar system\n",
      "Neptune is the 8th planet of the solar system\n"
     ]
    }
   ],
   "source": [
    "#Print solar system planets with their position in the list (which corresponds to their distance from the Sun)\n",
    "for i, planet in enumerate(planets): #enumerates returns elements of list along with its position in the list\n",
    "    print('{0} is the {1}th planet of the solar system'.format(planet, i+1))"
   ]
  },
  {
   "cell_type": "markdown",
   "metadata": {},
   "source": [
    "## Functions"
   ]
  },
  {
   "cell_type": "markdown",
   "metadata": {},
   "source": [
    "Functions are a list of sequential instructions that can be executed by calling its name along with a list of required or optional input parameter."
   ]
  },
  {
   "cell_type": "code",
   "execution_count": 79,
   "metadata": {},
   "outputs": [],
   "source": [
    "#Defining an addition function\n",
    "def add_numbers(x, y):\n",
    "    '''\n",
    "    Function that adds two input numbers\n",
    "    Inputs\n",
    "        x: a number\n",
    "        y: a number\n",
    "    Outputs\n",
    "        c: the sum of x and y  \n",
    "    '''\n",
    "    c = x+y\n",
    "    return c"
   ]
  },
  {
   "cell_type": "code",
   "execution_count": 80,
   "metadata": {},
   "outputs": [
    {
     "data": {
      "text/plain": [
       "5"
      ]
     },
     "execution_count": 80,
     "metadata": {},
     "output_type": "execute_result"
    }
   ],
   "source": [
    "#any call to add_numbers will execute the instructions in the function's block\n",
    "add_numbers(2,3)"
   ]
  },
  {
   "cell_type": "code",
   "execution_count": 81,
   "metadata": {},
   "outputs": [
    {
     "ename": "TypeError",
     "evalue": "add_numbers() missing 1 required positional argument: 'y'",
     "output_type": "error",
     "traceback": [
      "\u001b[0;31m---------------------------------------------------------------------------\u001b[0m",
      "\u001b[0;31mTypeError\u001b[0m                                 Traceback (most recent call last)",
      "\u001b[0;32m<ipython-input-81-06e0fe1696dc>\u001b[0m in \u001b[0;36m<module>\u001b[0;34m\u001b[0m\n\u001b[1;32m      1\u001b[0m \u001b[0;31m#A call to a function MUST respect the number of arguments specified in the function definition (in this case, 2 are required)\u001b[0m\u001b[0;34m\u001b[0m\u001b[0;34m\u001b[0m\u001b[0;34m\u001b[0m\u001b[0m\n\u001b[0;32m----> 2\u001b[0;31m \u001b[0madd_numbers\u001b[0m\u001b[0;34m(\u001b[0m\u001b[0;36m2\u001b[0m\u001b[0;34m)\u001b[0m\u001b[0;34m\u001b[0m\u001b[0;34m\u001b[0m\u001b[0m\n\u001b[0m",
      "\u001b[0;31mTypeError\u001b[0m: add_numbers() missing 1 required positional argument: 'y'"
     ]
    }
   ],
   "source": [
    "#A call to a function MUST respect the number of arguments specified in the function definition (in this case, 2 are required)\n",
    "add_numbers(2)"
   ]
  },
  {
   "cell_type": "code",
   "execution_count": 82,
   "metadata": {},
   "outputs": [
    {
     "name": "stdout",
     "output_type": "stream",
     "text": [
      "Help on function add_numbers in module __main__:\n",
      "\n",
      "add_numbers(x, y)\n",
      "    Function that adds two input numbers\n",
      "    Inputs\n",
      "        x: a number\n",
      "        y: a number\n",
      "    Outputs\n",
      "        c: the sum of x and y\n",
      "\n"
     ]
    }
   ],
   "source": [
    "#Illustration of documentation:\n",
    "help(add_numbers)"
   ]
  },
  {
   "cell_type": "code",
   "execution_count": 83,
   "metadata": {},
   "outputs": [],
   "source": [
    "#Input parameters can be optional and set to defalt values\n",
    "def add_numbers2(x, y=2):\n",
    "    '''\n",
    "    Function that adds two input numbers. If only one input is provided, two is added to the input\n",
    "    Inputs\n",
    "        x: a number\n",
    "    Options:\n",
    "        y: a number. Default value for y is 2\n",
    "    Outputs\n",
    "        c: the sum of x and y  \n",
    "    '''\n",
    "    return x + y"
   ]
  },
  {
   "cell_type": "code",
   "execution_count": 84,
   "metadata": {},
   "outputs": [
    {
     "data": {
      "text/plain": [
       "7"
      ]
     },
     "execution_count": 84,
     "metadata": {},
     "output_type": "execute_result"
    }
   ],
   "source": [
    "#Default run, 2 is added to the input\n",
    "add_numbers2(5)"
   ]
  },
  {
   "cell_type": "code",
   "execution_count": 85,
   "metadata": {},
   "outputs": [
    {
     "data": {
      "text/plain": [
       "15"
      ]
     },
     "execution_count": 85,
     "metadata": {},
     "output_type": "execute_result"
    }
   ],
   "source": [
    "#The optional input is set, which overrights the default value\n",
    "add_numbers2(5, y=10)"
   ]
  },
  {
   "cell_type": "code",
   "execution_count": 86,
   "metadata": {},
   "outputs": [
    {
     "name": "stdout",
     "output_type": "stream",
     "text": [
      "16\n",
      "11\n"
     ]
    }
   ],
   "source": [
    "#Mandatory inputs can be given using the same syntax as optional inputs\n",
    "print(add_numbers2(x= 6, y=10))\n",
    "print(add_numbers2(y=5, x=6))"
   ]
  },
  {
   "cell_type": "code",
   "execution_count": 87,
   "metadata": {},
   "outputs": [
    {
     "data": {
      "text/plain": [
       "9"
      ]
     },
     "execution_count": 87,
     "metadata": {},
     "output_type": "execute_result"
    }
   ],
   "source": [
    "#And conversely\n",
    "add_numbers2(4,5)"
   ]
  },
  {
   "cell_type": "code",
   "execution_count": 88,
   "metadata": {},
   "outputs": [
    {
     "ename": "TypeError",
     "evalue": "add_numbers2() missing 1 required positional argument: 'x'",
     "output_type": "error",
     "traceback": [
      "\u001b[0;31m---------------------------------------------------------------------------\u001b[0m",
      "\u001b[0;31mTypeError\u001b[0m                                 Traceback (most recent call last)",
      "\u001b[0;32m<ipython-input-88-3a5d67d021bd>\u001b[0m in \u001b[0;36m<module>\u001b[0;34m\u001b[0m\n\u001b[1;32m      1\u001b[0m \u001b[0;31m#But they remain mandatory nonetheless\u001b[0m\u001b[0;34m\u001b[0m\u001b[0;34m\u001b[0m\u001b[0;34m\u001b[0m\u001b[0m\n\u001b[0;32m----> 2\u001b[0;31m \u001b[0madd_numbers2\u001b[0m\u001b[0;34m(\u001b[0m\u001b[0my\u001b[0m\u001b[0;34m=\u001b[0m\u001b[0;36m10\u001b[0m\u001b[0;34m)\u001b[0m\u001b[0;34m\u001b[0m\u001b[0;34m\u001b[0m\u001b[0m\n\u001b[0m",
      "\u001b[0;31mTypeError\u001b[0m: add_numbers2() missing 1 required positional argument: 'x'"
     ]
    }
   ],
   "source": [
    "#But they remain mandatory nonetheless \n",
    "add_numbers2(y=10)"
   ]
  },
  {
   "cell_type": "code",
   "execution_count": 89,
   "metadata": {},
   "outputs": [
    {
     "data": {
      "text/plain": [
       "12"
      ]
     },
     "execution_count": 89,
     "metadata": {},
     "output_type": "execute_result"
    }
   ],
   "source": [
    "#and their naming matters\n",
    "add_numbers2(x=10)"
   ]
  },
  {
   "cell_type": "code",
   "execution_count": 90,
   "metadata": {},
   "outputs": [
    {
     "name": "stdout",
     "output_type": "stream",
     "text": [
      "{'x': 20, 'y': 30}\n",
      "50\n"
     ]
    }
   ],
   "source": [
    "#Inputs given as a dictionary\n",
    "d = dict(x=20, y=30)\n",
    "print(d)\n",
    "print(add_numbers2(**d))"
   ]
  },
  {
   "cell_type": "code",
   "execution_count": 91,
   "metadata": {},
   "outputs": [],
   "source": [
    "#More generally, mandatory inputs are given as 'args' and optional inputs are 'kwargs'\n",
    "def myfunc(*args, **kwargs):\n",
    "    '''\n",
    "    Generic definition of a function that prints its inputs\n",
    "    Inputs:\n",
    "        args: input parameters\n",
    "    Optional:\n",
    "        kwargs: optional parameters\n",
    "    '''\n",
    "    print(args)\n",
    "    print(kwargs)"
   ]
  },
  {
   "cell_type": "code",
   "execution_count": 92,
   "metadata": {},
   "outputs": [
    {
     "name": "stdout",
     "output_type": "stream",
     "text": [
      "(1, 2, 3, 4, 5)\n",
      "{}\n"
     ]
    }
   ],
   "source": [
    "myfunc(1,2,3,4,5)"
   ]
  },
  {
   "cell_type": "code",
   "execution_count": 93,
   "metadata": {},
   "outputs": [
    {
     "name": "stdout",
     "output_type": "stream",
     "text": [
      "(1, 2, 3)\n",
      "{'a': 10, 'b': 20}\n"
     ]
    }
   ],
   "source": [
    "myfunc(1,2,3, a=10, b=20)"
   ]
  },
  {
   "cell_type": "code",
   "execution_count": 99,
   "metadata": {},
   "outputs": [],
   "source": [
    "'''Function names can be given as arguments of another function'''\n",
    "def myfunc_of_funk(funk, init, limit):\n",
    "    result = 0\n",
    "    while result < limit:\n",
    "        result = funk(init, result)\n",
    "        print(result)\n",
    "    pass\n"
   ]
  },
  {
   "cell_type": "code",
   "execution_count": 100,
   "metadata": {},
   "outputs": [
    {
     "name": "stdout",
     "output_type": "stream",
     "text": [
      "3\n",
      "6\n",
      "9\n",
      "12\n",
      "15\n",
      "18\n",
      "21\n"
     ]
    }
   ],
   "source": [
    "myfunc_of_funk(add_numbers2, 3, 20)"
   ]
  },
  {
   "cell_type": "markdown",
   "metadata": {},
   "source": [
    "## built-in functions"
   ]
  },
  {
   "cell_type": "markdown",
   "metadata": {},
   "source": [
    "List of built-in functions in python: https://docs.python.org/3/library/functions.html"
   ]
  },
  {
   "cell_type": "code",
   "execution_count": 114,
   "metadata": {},
   "outputs": [
    {
     "name": "stdout",
     "output_type": "stream",
     "text": [
      "length of the array: 6\n",
      "min of the array: 1\n",
      "max of the array: 12\n",
      "sum of the array elements: 32\n",
      "creating an array with of increasing values: range(0, 7)\n",
      "type of a variable <class 'int'>\n",
      "change the type of a variable -6.0 <class 'float'>\n"
     ]
    }
   ],
   "source": [
    "array = [1,4,3,9,12, 3]\n",
    "print('length of the array:', len(array))\n",
    "print('min of the array:', min(array))\n",
    "print('max of the array:', max(array))\n",
    "print('sum of the array elements:', sum(array))\n",
    "print('creating an array with of increasing values:', range(7))\n",
    "n = -6\n",
    "print('type of a variable', type(n))\n",
    "m = float(n)\n",
    "print('change the type of a numerical variable', m, type(m))"
   ]
  },
  {
   "cell_type": "markdown",
   "metadata": {},
   "source": [
    "## Classes\n",
    "(If time permits)"
   ]
  },
  {
   "cell_type": "markdown",
   "metadata": {},
   "source": [
    "Classes are abstract definitions for object that can take arbitrarilly complex structures. For instance, classes make it possible to associate variables with different nature and to access and perform operations on its elements."
   ]
  },
  {
   "cell_type": "code",
   "execution_count": 118,
   "metadata": {},
   "outputs": [
    {
     "name": "stdout",
     "output_type": "stream",
     "text": [
      "<class 'str'>\n"
     ]
    }
   ],
   "source": [
    "# For instance, strings are objects of a class:\n",
    "s = 'thanks for all the fish'\n",
    "print(type(s))"
   ]
  },
  {
   "cell_type": "code",
   "execution_count": 119,
   "metadata": {},
   "outputs": [
    {
     "data": {
      "text/plain": [
       "['thanks', 'for', 'all', 'the', 'fish']"
      ]
     },
     "execution_count": 119,
     "metadata": {},
     "output_type": "execute_result"
    }
   ],
   "source": [
    "# Class allow to define methods, which are internal functions to use on objects of the class\n",
    "s.split()"
   ]
  },
  {
   "cell_type": "code",
   "execution_count": 134,
   "metadata": {},
   "outputs": [
    {
     "name": "stdout",
     "output_type": "stream",
     "text": [
      "['__class__', '__delattr__', '__dir__', '__doc__', '__eq__', '__format__', '__ge__', '__getattribute__', '__gt__', '__hash__', '__init__', '__init_subclass__', '__le__', '__lt__', '__ne__', '__new__', '__reduce__', '__reduce_ex__', '__repr__', '__setattr__', '__sizeof__', '__str__', '__subclasshook__']\n"
     ]
    }
   ],
   "source": [
    "#Here, split() and upper() are methods of the str class. \n",
    "s.upper()"
   ]
  },
  {
   "cell_type": "markdown",
   "metadata": {},
   "source": [
    "### Now let's see how classes are built"
   ]
  },
  {
   "cell_type": "code",
   "execution_count": 197,
   "metadata": {},
   "outputs": [],
   "source": [
    "# In the following example, we declare a class of objects called Coord.\n",
    "class Coord(): #This is how to declare a class\n",
    "    '''\n",
    "    The coord class allow to declare coordinates in the 2-D plane. \n",
    "    We should be able to compute the distance from the point to the center\n",
    "    and to add coordinates together.\n",
    "    attributes:\n",
    "        x: a number for coordinate along the x axis\n",
    "        y: a number for coordinate along the y axis\n",
    "        name: name of the point at coordinates (x,y)\n",
    "    methods:\n",
    "        distance_from_origin: returns the distance from a coord object to the origin\n",
    "        __add__: adds two coordinates together axis-wise \n",
    "    '''\n",
    "    def __init__(self, x, y, name = ''): # This is the init function, it defines the attributes of the class\n",
    "        #I do not put a description here because this is a default method \n",
    "        # that defines the attributes described in the class descriptor\n",
    "        print('I am running the constructor!') # Lets you know when the initialisation is ran\n",
    "        self.x = x #sets x as an attribute of the class coord\n",
    "        self.y = y #sets y as an attribute of the class coord\n",
    "        self.name = name\n",
    "        assert type(name) is str\n",
    "        \n",
    "    def distance_from_origin(self):\n",
    "        '''\n",
    "        Computes the distance between the origin and the Coord object\n",
    "        inputs:\n",
    "            self: the Coord object with its attributes and method\n",
    "        outputs:\n",
    "            result: the euclidean distance between the Coord object and the origin\n",
    "        '''\n",
    "        return (self.x**2 + self.y**2)**0.5\n",
    "    \n",
    "    def get_coord(self):\n",
    "        '''\n",
    "        Convenience function that returns the coordinates of an object\n",
    "        inputs:\n",
    "            self\n",
    "        outputs:\n",
    "            (x,y): returns the coordinates of an object as a tuple\n",
    "        '''\n",
    "        return (self.x, self.y)\n",
    "\n",
    "    def distance_from_coord(self, coord):\n",
    "        '''\n",
    "        Computes the distance between to another Coord object\n",
    "        inputs:\n",
    "            self: the Coord object with its attributes and method\n",
    "            coord: a coord object from which the distance is to be computed\n",
    "        outputs:\n",
    "            result: the euclidean distance between the Coord object and the origin\n",
    "        '''\n",
    "        assert type(coord) is Coord, 'Must add another Coord' #This line makes sure that the other variable is a coord object\n",
    "        \n",
    "        return ((self.x-coord.x)**2 + (self.y-coord.y)**2)**0.5\n",
    "    \n",
    "    def __add__(self, other):\n",
    "        '''\n",
    "        Coordinate-wise addition of another coordinate object\n",
    "        inputs:\n",
    "            self\n",
    "            other: a Coord object\n",
    "        outputs:\n",
    "            Coord: a coordinate object which coordinates are the sum of the input Coord objects\n",
    "        '''\n",
    "        \n",
    "        assert type(other) is Coord, 'Must add another Coord' #This line makes sure that the other variable is a coord object\n",
    "    \n",
    "        newx = self.x + other.x\n",
    "        newy = self.y + other.y\n",
    "        return Coord(newx, newy, self.name)\n",
    "    "
   ]
  },
  {
   "cell_type": "code",
   "execution_count": 263,
   "metadata": {},
   "outputs": [
    {
     "name": "stdout",
     "output_type": "stream",
     "text": [
      "I am running the constructor!\n",
      "<class '__main__.Coord'>\n"
     ]
    }
   ],
   "source": [
    "# An object is declared as follows:\n",
    "c = Coord(7,0, 'No return')\n",
    "print(type(c))\n",
    "#NOtice that declaring an object runs its __init__() method "
   ]
  },
  {
   "cell_type": "code",
   "execution_count": 264,
   "metadata": {},
   "outputs": [
    {
     "ename": "AssertionError",
     "evalue": "Must add another Coord",
     "output_type": "error",
     "traceback": [
      "\u001b[0;31m---------------------------------------------------------------------------\u001b[0m",
      "\u001b[0;31mAssertionError\u001b[0m                            Traceback (most recent call last)",
      "\u001b[0;32m<ipython-input-264-4d8513f7d844>\u001b[0m in \u001b[0;36m<module>\u001b[0;34m\u001b[0m\n\u001b[1;32m      1\u001b[0m \u001b[0;31m# Try to sum a coord object with a\u001b[0m\u001b[0;34m\u001b[0m\u001b[0;34m\u001b[0m\u001b[0;34m\u001b[0m\u001b[0m\n\u001b[0;32m----> 2\u001b[0;31m \u001b[0mc\u001b[0m \u001b[0;34m+\u001b[0m \u001b[0;36m2\u001b[0m\u001b[0;34m\u001b[0m\u001b[0;34m\u001b[0m\u001b[0m\n\u001b[0m",
      "\u001b[0;32m<ipython-input-197-de7b3a93996e>\u001b[0m in \u001b[0;36m__add__\u001b[0;34m(self, other)\u001b[0m\n\u001b[1;32m     65\u001b[0m         '''\n\u001b[1;32m     66\u001b[0m \u001b[0;34m\u001b[0m\u001b[0m\n\u001b[0;32m---> 67\u001b[0;31m         \u001b[0;32massert\u001b[0m \u001b[0mtype\u001b[0m\u001b[0;34m(\u001b[0m\u001b[0mother\u001b[0m\u001b[0;34m)\u001b[0m \u001b[0;32mis\u001b[0m \u001b[0mCoord\u001b[0m\u001b[0;34m,\u001b[0m \u001b[0;34m'Must add another Coord'\u001b[0m \u001b[0;31m#This line makes sure that the other variable is a coord object\u001b[0m\u001b[0;34m\u001b[0m\u001b[0;34m\u001b[0m\u001b[0m\n\u001b[0m\u001b[1;32m     68\u001b[0m \u001b[0;34m\u001b[0m\u001b[0m\n\u001b[1;32m     69\u001b[0m         \u001b[0mnewx\u001b[0m \u001b[0;34m=\u001b[0m \u001b[0mself\u001b[0m\u001b[0;34m.\u001b[0m\u001b[0mx\u001b[0m \u001b[0;34m+\u001b[0m \u001b[0mother\u001b[0m\u001b[0;34m.\u001b[0m\u001b[0mx\u001b[0m\u001b[0;34m\u001b[0m\u001b[0;34m\u001b[0m\u001b[0m\n",
      "\u001b[0;31mAssertionError\u001b[0m: Must add another Coord"
     ]
    }
   ],
   "source": [
    "# Try to sum a coord object with a \n",
    "c + 2"
   ]
  },
  {
   "cell_type": "code",
   "execution_count": 265,
   "metadata": {},
   "outputs": [
    {
     "name": "stdout",
     "output_type": "stream",
     "text": [
      "I am running the constructor!\n",
      "I am running the constructor!\n"
     ]
    }
   ],
   "source": [
    "# Actually adding coordinates\n",
    "c2 = Coord(10,20)\n",
    "c3 = c + c2"
   ]
  },
  {
   "cell_type": "code",
   "execution_count": 266,
   "metadata": {},
   "outputs": [
    {
     "data": {
      "text/plain": [
       "(17, 20)"
      ]
     },
     "execution_count": 266,
     "metadata": {},
     "output_type": "execute_result"
    }
   ],
   "source": [
    "# Accessing attributes of a class\n",
    "c3.x, c3.y"
   ]
  },
  {
   "cell_type": "code",
   "execution_count": 267,
   "metadata": {},
   "outputs": [
    {
     "data": {
      "text/plain": [
       "(7, 0)"
      ]
     },
     "execution_count": 267,
     "metadata": {},
     "output_type": "execute_result"
    }
   ],
   "source": [
    "c.x, c.y"
   ]
  },
  {
   "cell_type": "code",
   "execution_count": 268,
   "metadata": {},
   "outputs": [
    {
     "name": "stdout",
     "output_type": "stream",
     "text": [
      "(7, 0)\n",
      "No return\n",
      "22.360679774997898\n"
     ]
    }
   ],
   "source": [
    "#Computes the distance from origin\n",
    "c.distance_from_origin()\n",
    "print(c.get_coord())\n",
    "print(c.name)\n",
    "print(c.distance_from_coord(c3))"
   ]
  },
  {
   "cell_type": "markdown",
   "metadata": {},
   "source": [
    "### Inheritance\n",
    "(That's if we REALLY have time)"
   ]
  },
  {
   "cell_type": "markdown",
   "metadata": {},
   "source": [
    "Inheritance allows to declare classes that use attributes and methods declared in other classes and expand on these. \n",
    "By default, all classes inherit from python's built-in class 'object' with built-in methods: https://docs.python.org/3/reference/datamodel.html#special-method-names."
   ]
  },
  {
   "cell_type": "code",
   "execution_count": 269,
   "metadata": {},
   "outputs": [
    {
     "name": "stdout",
     "output_type": "stream",
     "text": [
      "methods in object: ['__class__', '__delattr__', '__dir__', '__doc__', '__eq__', '__format__', '__ge__', '__getattribute__', '__gt__', '__hash__', '__init__', '__init_subclass__', '__le__', '__lt__', '__ne__', '__new__', '__reduce__', '__reduce_ex__', '__repr__', '__setattr__', '__sizeof__', '__str__', '__subclasshook__']\n",
      "\n",
      "methods in Coord: ['__add__', '__class__', '__delattr__', '__dict__', '__dir__', '__doc__', '__eq__', '__format__', '__ge__', '__getattribute__', '__gt__', '__hash__', '__init__', '__init_subclass__', '__le__', '__lt__', '__module__', '__ne__', '__new__', '__reduce__', '__reduce_ex__', '__repr__', '__setattr__', '__sizeof__', '__str__', '__subclasshook__', '__weakref__', 'distance_from_coord', 'distance_from_origin', 'get_coord', 'name', 'x', 'y']\n"
     ]
    }
   ],
   "source": [
    "# Let's list the methods of object:\n",
    "print('methods in object:', dir(object))\n",
    "# To show the inheritance, let's see the methods in Coord\n",
    "print('\\nmethods in Coord:', dir(c))\n",
    "# All the methods in 'object' are also methods in 'Coord' due to the inheritance"
   ]
  },
  {
   "cell_type": "code",
   "execution_count": 377,
   "metadata": {},
   "outputs": [],
   "source": [
    "#Let us define a class the inhertis from 'Coord'\n",
    "import numpy as np\n",
    "\n",
    "class Segment(Coord):\n",
    "    '''\n",
    "    Segment class inherits from Coords and defines a line crossing point at coordinate (x,y) with an angle i and a length l.\n",
    "    attributes:\n",
    "        x, y: coordinates\n",
    "        name: name of the line\n",
    "        i: angle \n",
    "        l: length of the segment\n",
    "    '''\n",
    "    def __init__(self, x, y, i, d, name = ''):\n",
    "        super().__init__(x, y, name= name)\n",
    "        #The super function allows to use the __init__() method from the class Segment inherits from\n",
    "        #Only the attributes specific to Segment need to be treaed in this __init__()\n",
    "        #Although attributes initialisation inherited from Coord can be overwritten \n",
    "        self.i = i\n",
    "        self.d = d\n",
    "        self.count_p = 0 # attribute designed to count the number of points already sampled from the segment\n",
    "        \n",
    "    \n",
    "    def get_segment(self):\n",
    "        '''\n",
    "        Returns the coordinates of the extremities of the segment (useful for drawing)\n",
    "        Inputs:\n",
    "            self\n",
    "        Outputs:\n",
    "            extremities: tuple of form ((x_min, x_max),(y_min, y_max)) with the extremities of the segment.\n",
    "        '''\n",
    "        x_min = self.x-self.d/2.*np.cos(self.i)\n",
    "        x_max = self.x+self.d/2.*np.cos(self.i)\n",
    "        y_min = self.y-self.d/2.*np.sin(self.i)\n",
    "        y_max = self.y+self.d/2.*np.sin(self.i)\n",
    "        return ((x_min, x_max),(y_min, y_max))\n",
    "    \n",
    "    def point_on_segment(self, dist, pname = None):\n",
    "        '''\n",
    "        returns a point on the segment at distance 'dist' as a Coord object\n",
    "        Inputs:\n",
    "            dist: float between -1 and 1\n",
    "                position of the point relative to (x,y). 0 is the position (x,y), 1 is the extremity of the segment.\n",
    "                Negative values corresponds to a point in the -self.i direction\n",
    "        Optional:\n",
    "            pname: names of the Coord to return. Default is'p' concatenated to the line's name and the number of points already drawn\n",
    "        Returns:\n",
    "            pcoord: a Coord object on the segment\n",
    "        '''\n",
    "        x = self.x+dist*self.d/2.*np.cos(self.i)\n",
    "        y = self.y+dist*self.d/2.*np.sin(self.i)\n",
    "        if pname == None:\n",
    "            pname = 'p'+str(self.count_p)+self.name\n",
    "        self.count_p += 1\n",
    "    \n",
    "        return Coord(x, y, pname)\n",
    "    \n",
    "    def is_on_the_line(self, coord):\n",
    "        '''\n",
    "        Tests whether the coordinates of a Coord object is on the Segment\n",
    "        Inputs:\n",
    "            self\n",
    "            Coord: a coord object\n",
    "        Outputs:\n",
    "            Test: boolean set to True if Coord has coordinates on the Segment.\n",
    "        '''\n",
    "        distance = self.distance_from_coord(coord) #Thanks to inheritance, we can use methods from Coord\n",
    "        xd = (self.x - coord.x)\n",
    "        yd = (self.y - coord.y)\n",
    "        angle = np.arctan(yd/xd)\n",
    "        \n",
    "        if (distance<self.d/2.) and (np.abs((angle ) - self.i) < 0.0001):\n",
    "            Test = True\n",
    "        else:\n",
    "            Test = False\n",
    "        return Test\n",
    "        \n"
   ]
  },
  {
   "cell_type": "code",
   "execution_count": 378,
   "metadata": {},
   "outputs": [
    {
     "name": "stdout",
     "output_type": "stream",
     "text": [
      "I am running the constructor!\n"
     ]
    }
   ],
   "source": [
    "#Let's declare a Segment:\n",
    "seg = Segment(5, -2, -np.pi/3, 8, name = 'trajectory')"
   ]
  },
  {
   "cell_type": "code",
   "execution_count": 379,
   "metadata": {},
   "outputs": [
    {
     "name": "stdout",
     "output_type": "stream",
     "text": [
      "1.5707963267948966 0.7853981633974483 -1.0471975511965976 4.0 2.8284271247461903\n"
     ]
    },
    {
     "data": {
      "text/plain": [
       "False"
      ]
     },
     "execution_count": 379,
     "metadata": {},
     "output_type": "execute_result"
    }
   ],
   "source": [
    "#Test whether a coordinate previously declared is on the line:\n",
    "seg.is_on_the_line(c)"
   ]
  },
  {
   "cell_type": "code",
   "execution_count": 380,
   "metadata": {},
   "outputs": [
    {
     "name": "stdout",
     "output_type": "stream",
     "text": [
      "0\n",
      "I am running the constructor!\n",
      "1\n",
      "4.1887902047863905 -1.0471975511965979 -1.0471975511965976 4.0 1.1999999999999995\n",
      "is point c_seg on the line? \n",
      " True\n"
     ]
    }
   ],
   "source": [
    "#Draw a point from the segment\n",
    "seg.count_p = 0\n",
    "print(seg.count_p)\n",
    "c_seg = seg.point_on_segment(0.3)\n",
    "print(seg.count_p)\n",
    "print('is point c_seg on the line? \\n', seg.is_on_the_line(c_seg))"
   ]
  },
  {
   "cell_type": "code",
   "execution_count": 381,
   "metadata": {},
   "outputs": [
    {
     "data": {
      "image/png": "[encoded data removed]",
      "text/plain": [
       "<Figure size 432x288 with 1 Axes>"
      ]
     },
     "metadata": {
      "needs_background": "light"
     },
     "output_type": "display_data"
    }
   ],
   "source": [
    "#Display the scene\n",
    "import matplotlib.pyplot as plt\n",
    "\n",
    "plt.plot(c.get_coord()[0], c.get_coord()[1], 'xb')\n",
    "plt.plot(seg.get_coord()[0], seg.get_coord()[1], 'xr')\n",
    "plt.plot(c_seg.get_coord()[0], c_seg.get_coord()[1], 'xg')\n",
    "plt.plot(seg.get_segment()[0], seg.get_segment()[1], 'r')\n",
    "plt.show()"
   ]
  },
  {
   "cell_type": "markdown",
   "metadata": {},
   "source": [
    "\n",
    "## numpy (math with arrays)"
   ]
  },
  {
   "cell_type": "code",
   "execution_count": 84,
   "metadata": {
    "collapsed": true
   },
   "outputs": [],
   "source": [
    "mylist = [1,2,3,4,5]"
   ]
  },
  {
   "cell_type": "code",
   "execution_count": 86,
   "metadata": {},
   "outputs": [
    {
     "data": {
      "text/plain": [
       "[1, 2, 3, 4, 5, 1, 2, 3, 4, 5]"
      ]
     },
     "execution_count": 86,
     "metadata": {},
     "output_type": "execute_result"
    }
   ],
   "source": [
    "mylist*2"
   ]
  },
  {
   "cell_type": "code",
   "execution_count": 87,
   "metadata": {},
   "outputs": [
    {
     "data": {
      "text/plain": [
       "[1, 2, 3, 4, 5, 'a', 'b', 'c']"
      ]
     },
     "execution_count": 87,
     "metadata": {},
     "output_type": "execute_result"
    }
   ],
   "source": [
    "list2 = ['a', 'b', 'c']\n",
    "mylist + list2"
   ]
  },
  {
   "cell_type": "code",
   "execution_count": 89,
   "metadata": {
    "collapsed": true
   },
   "outputs": [],
   "source": [
    "import numpy as np"
   ]
  },
  {
   "cell_type": "code",
   "execution_count": 90,
   "metadata": {
    "collapsed": true
   },
   "outputs": [],
   "source": [
    "myarr = np.array(mylist)"
   ]
  },
  {
   "cell_type": "code",
   "execution_count": 91,
   "metadata": {},
   "outputs": [
    {
     "data": {
      "text/plain": [
       "array([1, 2, 3, 4, 5])"
      ]
     },
     "execution_count": 91,
     "metadata": {},
     "output_type": "execute_result"
    }
   ],
   "source": [
    "myarr"
   ]
  },
  {
   "cell_type": "code",
   "execution_count": 92,
   "metadata": {},
   "outputs": [
    {
     "data": {
      "text/plain": [
       "array([4, 5, 6, 7, 8])"
      ]
     },
     "execution_count": 92,
     "metadata": {},
     "output_type": "execute_result"
    }
   ],
   "source": [
    "myarr + 3"
   ]
  },
  {
   "cell_type": "code",
   "execution_count": 93,
   "metadata": {},
   "outputs": [
    {
     "data": {
      "text/plain": [
       "array([100, 200, 300, 400, 500])"
      ]
     },
     "execution_count": 93,
     "metadata": {},
     "output_type": "execute_result"
    }
   ],
   "source": [
    "myarr * 100"
   ]
  },
  {
   "cell_type": "code",
   "execution_count": 94,
   "metadata": {},
   "outputs": [
    {
     "data": {
      "text/plain": [
       "array([ 1,  4,  9, 16, 25])"
      ]
     },
     "execution_count": 94,
     "metadata": {},
     "output_type": "execute_result"
    }
   ],
   "source": [
    "myarr**2"
   ]
  },
  {
   "cell_type": "code",
   "execution_count": 95,
   "metadata": {},
   "outputs": [
    {
     "data": {
      "text/plain": [
       "array([0, 1, 2, 3, 4, 5, 6, 7, 8, 9])"
      ]
     },
     "execution_count": 95,
     "metadata": {},
     "output_type": "execute_result"
    }
   ],
   "source": [
    "np.arange(10)"
   ]
  },
  {
   "cell_type": "code",
   "execution_count": 96,
   "metadata": {},
   "outputs": [
    {
     "data": {
      "text/plain": [
       "array([10, 12, 14, 16, 18])"
      ]
     },
     "execution_count": 96,
     "metadata": {},
     "output_type": "execute_result"
    }
   ],
   "source": [
    "np.arange(10, 20, 2)"
   ]
  },
  {
   "cell_type": "code",
   "execution_count": 97,
   "metadata": {},
   "outputs": [
    {
     "data": {
      "text/plain": [
       "array([ 50.        ,  50.1010101 ,  50.2020202 ,  50.3030303 ,\n",
       "        50.4040404 ,  50.50505051,  50.60606061,  50.70707071,\n",
       "        50.80808081,  50.90909091,  51.01010101,  51.11111111,\n",
       "        51.21212121,  51.31313131,  51.41414141,  51.51515152,\n",
       "        51.61616162,  51.71717172,  51.81818182,  51.91919192,\n",
       "        52.02020202,  52.12121212,  52.22222222,  52.32323232,\n",
       "        52.42424242,  52.52525253,  52.62626263,  52.72727273,\n",
       "        52.82828283,  52.92929293,  53.03030303,  53.13131313,\n",
       "        53.23232323,  53.33333333,  53.43434343,  53.53535354,\n",
       "        53.63636364,  53.73737374,  53.83838384,  53.93939394,\n",
       "        54.04040404,  54.14141414,  54.24242424,  54.34343434,\n",
       "        54.44444444,  54.54545455,  54.64646465,  54.74747475,\n",
       "        54.84848485,  54.94949495,  55.05050505,  55.15151515,\n",
       "        55.25252525,  55.35353535,  55.45454545,  55.55555556,\n",
       "        55.65656566,  55.75757576,  55.85858586,  55.95959596,\n",
       "        56.06060606,  56.16161616,  56.26262626,  56.36363636,\n",
       "        56.46464646,  56.56565657,  56.66666667,  56.76767677,\n",
       "        56.86868687,  56.96969697,  57.07070707,  57.17171717,\n",
       "        57.27272727,  57.37373737,  57.47474747,  57.57575758,\n",
       "        57.67676768,  57.77777778,  57.87878788,  57.97979798,\n",
       "        58.08080808,  58.18181818,  58.28282828,  58.38383838,\n",
       "        58.48484848,  58.58585859,  58.68686869,  58.78787879,\n",
       "        58.88888889,  58.98989899,  59.09090909,  59.19191919,\n",
       "        59.29292929,  59.39393939,  59.49494949,  59.5959596 ,\n",
       "        59.6969697 ,  59.7979798 ,  59.8989899 ,  60.        ])"
      ]
     },
     "execution_count": 97,
     "metadata": {},
     "output_type": "execute_result"
    }
   ],
   "source": [
    "np.linspace(50, 60, 100)"
   ]
  },
  {
   "cell_type": "code",
   "execution_count": 99,
   "metadata": {},
   "outputs": [
    {
     "data": {
      "text/plain": [
       "array([ 50.  ,  50.05,  50.1 ,  50.15,  50.2 ,  50.25,  50.3 ,  50.35,\n",
       "        50.4 ,  50.45,  50.5 ,  50.55,  50.6 ,  50.65,  50.7 ,  50.75,\n",
       "        50.8 ,  50.85,  50.9 ,  50.95,  51.  ,  51.05,  51.1 ,  51.15,\n",
       "        51.2 ,  51.25,  51.3 ,  51.35,  51.4 ,  51.45,  51.5 ,  51.55,\n",
       "        51.6 ,  51.65,  51.7 ,  51.75,  51.8 ,  51.85,  51.9 ,  51.95,\n",
       "        52.  ,  52.05,  52.1 ,  52.15,  52.2 ,  52.25,  52.3 ,  52.35,\n",
       "        52.4 ,  52.45,  52.5 ,  52.55,  52.6 ,  52.65,  52.7 ,  52.75,\n",
       "        52.8 ,  52.85,  52.9 ,  52.95,  53.  ,  53.05,  53.1 ,  53.15,\n",
       "        53.2 ,  53.25,  53.3 ,  53.35,  53.4 ,  53.45,  53.5 ,  53.55,\n",
       "        53.6 ,  53.65,  53.7 ,  53.75,  53.8 ,  53.85,  53.9 ,  53.95,\n",
       "        54.  ,  54.05,  54.1 ,  54.15,  54.2 ,  54.25,  54.3 ,  54.35,\n",
       "        54.4 ,  54.45,  54.5 ,  54.55,  54.6 ,  54.65,  54.7 ,  54.75,\n",
       "        54.8 ,  54.85,  54.9 ,  54.95,  55.  ,  55.05,  55.1 ,  55.15,\n",
       "        55.2 ,  55.25,  55.3 ,  55.35,  55.4 ,  55.45,  55.5 ,  55.55,\n",
       "        55.6 ,  55.65,  55.7 ,  55.75,  55.8 ,  55.85,  55.9 ,  55.95,\n",
       "        56.  ,  56.05,  56.1 ,  56.15,  56.2 ,  56.25,  56.3 ,  56.35,\n",
       "        56.4 ,  56.45,  56.5 ,  56.55,  56.6 ,  56.65,  56.7 ,  56.75,\n",
       "        56.8 ,  56.85,  56.9 ,  56.95,  57.  ,  57.05,  57.1 ,  57.15,\n",
       "        57.2 ,  57.25,  57.3 ,  57.35,  57.4 ,  57.45,  57.5 ,  57.55,\n",
       "        57.6 ,  57.65,  57.7 ,  57.75,  57.8 ,  57.85,  57.9 ,  57.95,\n",
       "        58.  ,  58.05,  58.1 ,  58.15,  58.2 ,  58.25,  58.3 ,  58.35,\n",
       "        58.4 ,  58.45,  58.5 ,  58.55,  58.6 ,  58.65,  58.7 ,  58.75,\n",
       "        58.8 ,  58.85,  58.9 ,  58.95,  59.  ,  59.05,  59.1 ,  59.15,\n",
       "        59.2 ,  59.25,  59.3 ,  59.35,  59.4 ,  59.45,  59.5 ,  59.55,\n",
       "        59.6 ,  59.65,  59.7 ,  59.75,  59.8 ,  59.85,  59.9 ,  59.95])"
      ]
     },
     "execution_count": 99,
     "metadata": {},
     "output_type": "execute_result"
    }
   ],
   "source": [
    "np.arange(50, 60, 0.05)"
   ]
  },
  {
   "cell_type": "code",
   "execution_count": 100,
   "metadata": {},
   "outputs": [
    {
     "data": {
      "text/plain": [
       "array([ 0.,  0.,  0.,  0.,  0.])"
      ]
     },
     "execution_count": 100,
     "metadata": {},
     "output_type": "execute_result"
    }
   ],
   "source": [
    "np.zeros(5)"
   ]
  },
  {
   "cell_type": "code",
   "execution_count": 101,
   "metadata": {},
   "outputs": [
    {
     "data": {
      "text/plain": [
       "array([ 1.,  1.,  1.,  1.,  1.])"
      ]
     },
     "execution_count": 101,
     "metadata": {},
     "output_type": "execute_result"
    }
   ],
   "source": [
    "np.ones(5)"
   ]
  },
  {
   "cell_type": "code",
   "execution_count": 102,
   "metadata": {},
   "outputs": [
    {
     "data": {
      "text/plain": [
       "array([ 10.,  10.,  10.,  10.,  10.])"
      ]
     },
     "execution_count": 102,
     "metadata": {},
     "output_type": "execute_result"
    }
   ],
   "source": [
    "10*np.ones(5)"
   ]
  },
  {
   "cell_type": "code",
   "execution_count": 105,
   "metadata": {},
   "outputs": [
    {
     "data": {
      "text/plain": [
       "array([[ 0.,  0.,  0.,  0.],\n",
       "       [ 0.,  0.,  0.,  0.],\n",
       "       [ 0.,  0.,  0.,  0.]])"
      ]
     },
     "execution_count": 105,
     "metadata": {},
     "output_type": "execute_result"
    }
   ],
   "source": [
    "np.zeros((3,4))"
   ]
  },
  {
   "cell_type": "code",
   "execution_count": 106,
   "metadata": {},
   "outputs": [
    {
     "data": {
      "text/plain": [
       "array([[ 0,  1,  2,  3],\n",
       "       [ 4,  5,  6,  7],\n",
       "       [ 8,  9, 10, 11]])"
      ]
     },
     "execution_count": 106,
     "metadata": {},
     "output_type": "execute_result"
    }
   ],
   "source": [
    "np.arange(12).reshape((3,4))"
   ]
  },
  {
   "cell_type": "code",
   "execution_count": 108,
   "metadata": {},
   "outputs": [
    {
     "data": {
      "text/plain": [
       "array([[ 0,  1,  2,  3],\n",
       "       [ 4,  5,  6,  7],\n",
       "       [ 8,  9, 10, 11]])"
      ]
     },
     "execution_count": 108,
     "metadata": {},
     "output_type": "execute_result"
    }
   ],
   "source": [
    "x = np.arange(12)\n",
    "x.reshape((3,4))"
   ]
  },
  {
   "cell_type": "markdown",
   "metadata": {},
   "source": [
    "Here's a little \"gotcha\":"
   ]
  },
  {
   "cell_type": "code",
   "execution_count": 114,
   "metadata": {},
   "outputs": [
    {
     "data": {
      "text/plain": [
       "(array([0, 1, 2, 3, 4, 5, 6, 7, 8, 9]), array([0, 1, 2, 3, 4, 5, 6, 7, 8, 9]))"
      ]
     },
     "execution_count": 114,
     "metadata": {},
     "output_type": "execute_result"
    }
   ],
   "source": [
    "x = np.arange(10)\n",
    "y = x  # be sure you know what this line does!\n",
    "x, y"
   ]
  },
  {
   "cell_type": "code",
   "execution_count": 115,
   "metadata": {
    "collapsed": true
   },
   "outputs": [],
   "source": [
    "y[5] = 100"
   ]
  },
  {
   "cell_type": "code",
   "execution_count": 116,
   "metadata": {},
   "outputs": [
    {
     "data": {
      "text/plain": [
       "array([  0,   1,   2,   3,   4, 100,   6,   7,   8,   9])"
      ]
     },
     "execution_count": 116,
     "metadata": {},
     "output_type": "execute_result"
    }
   ],
   "source": [
    "x"
   ]
  },
  {
   "cell_type": "code",
   "execution_count": 117,
   "metadata": {},
   "outputs": [
    {
     "data": {
      "text/plain": [
       "(array([0, 1, 2, 3, 4, 5, 6, 7, 8, 9]),\n",
       " array([  0,   1,   2,   3,   4, 100,   6,   7,   8,   9]))"
      ]
     },
     "execution_count": 117,
     "metadata": {},
     "output_type": "execute_result"
    }
   ],
   "source": [
    "x = np.arange(10)\n",
    "y = x.copy()\n",
    "y[5] = 100\n",
    "x, y"
   ]
  },
  {
   "cell_type": "code",
   "execution_count": 118,
   "metadata": {},
   "outputs": [
    {
     "data": {
      "text/plain": [
       "numpy.ndarray"
      ]
     },
     "execution_count": 118,
     "metadata": {},
     "output_type": "execute_result"
    }
   ],
   "source": [
    "type(x)"
   ]
  },
  {
   "cell_type": "code",
   "execution_count": 119,
   "metadata": {},
   "outputs": [
    {
     "data": {
      "text/plain": [
       "([1, 2, 100, 4, 5], [1, 2, 100, 4, 5])"
      ]
     },
     "execution_count": 119,
     "metadata": {},
     "output_type": "execute_result"
    }
   ],
   "source": [
    "x = [1,2,3,4,5]\n",
    "y = x\n",
    "y[2] = 100\n",
    "x, y"
   ]
  },
  {
   "cell_type": "markdown",
   "metadata": {},
   "source": [
    "Let's discuss indexing!"
   ]
  },
  {
   "cell_type": "code",
   "execution_count": 123,
   "metadata": {
    "collapsed": true
   },
   "outputs": [],
   "source": [
    "x = np.random.random(10)"
   ]
  },
  {
   "cell_type": "code",
   "execution_count": 124,
   "metadata": {},
   "outputs": [
    {
     "data": {
      "text/plain": [
       "array([ 0.89413272,  0.34903165,  0.47309184,  0.76168118,  0.98309439,\n",
       "        0.84076949,  0.64242618,  0.23401556,  0.32785939,  0.39153458])"
      ]
     },
     "execution_count": 124,
     "metadata": {},
     "output_type": "execute_result"
    }
   ],
   "source": [
    "x"
   ]
  },
  {
   "cell_type": "code",
   "execution_count": 125,
   "metadata": {},
   "outputs": [
    {
     "data": {
      "text/plain": [
       "0.47309184095421686"
      ]
     },
     "execution_count": 125,
     "metadata": {},
     "output_type": "execute_result"
    }
   ],
   "source": [
    "x[2]"
   ]
  },
  {
   "cell_type": "code",
   "execution_count": 126,
   "metadata": {},
   "outputs": [
    {
     "data": {
      "text/plain": [
       "array([ 0.47309184,  0.76168118,  0.98309439])"
      ]
     },
     "execution_count": 126,
     "metadata": {},
     "output_type": "execute_result"
    }
   ],
   "source": [
    "x[2:5]"
   ]
  },
  {
   "cell_type": "code",
   "execution_count": 127,
   "metadata": {},
   "outputs": [
    {
     "data": {
      "text/plain": [
       "0.39153457735323971"
      ]
     },
     "execution_count": 127,
     "metadata": {},
     "output_type": "execute_result"
    }
   ],
   "source": [
    "x[-1]"
   ]
  },
  {
   "cell_type": "code",
   "execution_count": 129,
   "metadata": {},
   "outputs": [
    {
     "data": {
      "text/plain": [
       "array([ 0.34903165,  0.47309184,  0.76168118,  0.98309439,  0.84076949,\n",
       "        0.64242618,  0.23401556,  0.32785939])"
      ]
     },
     "execution_count": 129,
     "metadata": {},
     "output_type": "execute_result"
    }
   ],
   "source": [
    "x[1:-1]"
   ]
  },
  {
   "cell_type": "code",
   "execution_count": 130,
   "metadata": {},
   "outputs": [
    {
     "data": {
      "text/plain": [
       "array([ 0.47309184,  0.76168118,  0.98309439,  0.84076949,  0.64242618,\n",
       "        0.23401556])"
      ]
     },
     "execution_count": 130,
     "metadata": {},
     "output_type": "execute_result"
    }
   ],
   "source": [
    "trim = 2\n",
    "x[trim: -1*trim]"
   ]
  },
  {
   "cell_type": "code",
   "execution_count": 131,
   "metadata": {
    "collapsed": true
   },
   "outputs": [],
   "source": [
    "x = np.random.random((4,5))"
   ]
  },
  {
   "cell_type": "code",
   "execution_count": 132,
   "metadata": {},
   "outputs": [
    {
     "data": {
      "text/plain": [
       "array([[ 0.8348854 ,  0.61869336,  0.27457545,  0.79887015,  0.82652467],\n",
       "       [ 0.01251086,  0.96670928,  0.26280421,  0.15923323,  0.70709163],\n",
       "       [ 0.06514461,  0.32882251,  0.72512194,  0.75844255,  0.68482091],\n",
       "       [ 0.45716787,  0.83704952,  0.03304868,  0.63298665,  0.40129791]])"
      ]
     },
     "execution_count": 132,
     "metadata": {},
     "output_type": "execute_result"
    }
   ],
   "source": [
    "x"
   ]
  },
  {
   "cell_type": "code",
   "execution_count": 133,
   "metadata": {},
   "outputs": [
    {
     "data": {
      "text/plain": [
       "0.15923323201627193"
      ]
     },
     "execution_count": 133,
     "metadata": {},
     "output_type": "execute_result"
    }
   ],
   "source": [
    "x[1, 3]"
   ]
  },
  {
   "cell_type": "code",
   "execution_count": 135,
   "metadata": {},
   "outputs": [
    {
     "data": {
      "text/plain": [
       "array([[ 0.8348854 ,  0.61869336],\n",
       "       [ 0.01251086,  0.96670928]])"
      ]
     },
     "execution_count": 135,
     "metadata": {},
     "output_type": "execute_result"
    }
   ],
   "source": [
    "x[0:2, 0:2]"
   ]
  },
  {
   "cell_type": "code",
   "execution_count": 136,
   "metadata": {},
   "outputs": [
    {
     "data": {
      "text/plain": [
       "array([ 0.61869336,  0.96670928,  0.32882251,  0.83704952])"
      ]
     },
     "execution_count": 136,
     "metadata": {},
     "output_type": "execute_result"
    }
   ],
   "source": [
    "x[:, 1]"
   ]
  },
  {
   "cell_type": "code",
   "execution_count": 137,
   "metadata": {},
   "outputs": [
    {
     "data": {
      "text/plain": [
       "array([[ 0.8348854 ,  0.61869336],\n",
       "       [ 0.01251086,  0.96670928]])"
      ]
     },
     "execution_count": 137,
     "metadata": {},
     "output_type": "execute_result"
    }
   ],
   "source": [
    "y = x[0:2, 0:2] # this does not copy data! just returns a \"view\"\n",
    "y"
   ]
  },
  {
   "cell_type": "code",
   "execution_count": 138,
   "metadata": {},
   "outputs": [
    {
     "data": {
      "text/plain": [
       "array([[  1.00000000e+02,   6.18693361e-01],\n",
       "       [  1.25108617e-02,   9.66709280e-01]])"
      ]
     },
     "execution_count": 138,
     "metadata": {},
     "output_type": "execute_result"
    }
   ],
   "source": [
    "y[0,0] = 100\n",
    "y"
   ]
  },
  {
   "cell_type": "code",
   "execution_count": 139,
   "metadata": {},
   "outputs": [
    {
     "data": {
      "text/plain": [
       "array([[  1.00000000e+02,   6.18693361e-01,   2.74575453e-01,\n",
       "          7.98870147e-01,   8.26524674e-01],\n",
       "       [  1.25108617e-02,   9.66709280e-01,   2.62804211e-01,\n",
       "          1.59233232e-01,   7.07091630e-01],\n",
       "       [  6.51446139e-02,   3.28822509e-01,   7.25121942e-01,\n",
       "          7.58442551e-01,   6.84820910e-01],\n",
       "       [  4.57167870e-01,   8.37049523e-01,   3.30486845e-02,\n",
       "          6.32986648e-01,   4.01297913e-01]])"
      ]
     },
     "execution_count": 139,
     "metadata": {},
     "output_type": "execute_result"
    }
   ],
   "source": [
    "x"
   ]
  },
  {
   "cell_type": "code",
   "execution_count": 140,
   "metadata": {},
   "outputs": [
    {
     "data": {
      "text/plain": [
       "True"
      ]
     },
     "execution_count": 140,
     "metadata": {},
     "output_type": "execute_result"
    }
   ],
   "source": [
    "np.shares_memory(x, y)"
   ]
  },
  {
   "cell_type": "code",
   "execution_count": 141,
   "metadata": {},
   "outputs": [
    {
     "data": {
      "text/plain": [
       "array([ 0.2468686 ,  0.79704177,  0.60903853,  0.04350456,  0.10141312,\n",
       "        0.2275861 ,  0.84394256,  0.56130802,  0.81799537,  0.90666407])"
      ]
     },
     "execution_count": 141,
     "metadata": {},
     "output_type": "execute_result"
    }
   ],
   "source": [
    "x = np.random.random(10)\n",
    "x"
   ]
  },
  {
   "cell_type": "code",
   "execution_count": 143,
   "metadata": {},
   "outputs": [
    {
     "data": {
      "text/plain": [
       "array([False,  True,  True, False, False, False,  True,  True,  True,  True], dtype=bool)"
      ]
     },
     "execution_count": 143,
     "metadata": {},
     "output_type": "execute_result"
    }
   ],
   "source": [
    "x > 0.5"
   ]
  },
  {
   "cell_type": "code",
   "execution_count": 144,
   "metadata": {},
   "outputs": [
    {
     "data": {
      "text/plain": [
       "6"
      ]
     },
     "execution_count": 144,
     "metadata": {},
     "output_type": "execute_result"
    }
   ],
   "source": [
    "(x > 0.5).sum()"
   ]
  },
  {
   "cell_type": "code",
   "execution_count": 145,
   "metadata": {},
   "outputs": [
    {
     "data": {
      "text/plain": [
       "6"
      ]
     },
     "execution_count": 145,
     "metadata": {},
     "output_type": "execute_result"
    }
   ],
   "source": [
    "sum(x > 0.5)"
   ]
  },
  {
   "cell_type": "code",
   "execution_count": 146,
   "metadata": {},
   "outputs": [
    {
     "data": {
      "text/plain": [
       "array([ 0.2468686 ,  0.04350456,  0.10141312,  0.2275861 ])"
      ]
     },
     "execution_count": 146,
     "metadata": {},
     "output_type": "execute_result"
    }
   ],
   "source": [
    "x[x < 0.3]"
   ]
  },
  {
   "cell_type": "code",
   "execution_count": 147,
   "metadata": {},
   "outputs": [
    {
     "data": {
      "text/plain": [
       "array([ 0.2468686 ,  0.04350456,  0.10141312,  0.2275861 ])"
      ]
     },
     "execution_count": 147,
     "metadata": {},
     "output_type": "execute_result"
    }
   ],
   "source": [
    "mask = x < 0.3\n",
    "x[mask]"
   ]
  },
  {
   "cell_type": "code",
   "execution_count": 150,
   "metadata": {},
   "outputs": [
    {
     "data": {
      "text/plain": [
       "(array([0, 3, 4, 5]),)"
      ]
     },
     "execution_count": 150,
     "metadata": {},
     "output_type": "execute_result"
    }
   ],
   "source": [
    "np.where(x < 0.3)"
   ]
  },
  {
   "cell_type": "code",
   "execution_count": 151,
   "metadata": {},
   "outputs": [
    {
     "data": {
      "text/plain": [
       "array([ 0.2468686 ,  0.04350456,  0.10141312,  0.2275861 ])"
      ]
     },
     "execution_count": 151,
     "metadata": {},
     "output_type": "execute_result"
    }
   ],
   "source": [
    "w = np.where(x < 0.3)\n",
    "x[w]"
   ]
  },
  {
   "cell_type": "code",
   "execution_count": 149,
   "metadata": {},
   "outputs": [
    {
     "data": {
      "text/plain": [
       "array([ 0.79704177,  0.04350456,  0.2275861 ,  0.84394256])"
      ]
     },
     "execution_count": 149,
     "metadata": {},
     "output_type": "execute_result"
    }
   ],
   "source": [
    "x[[1,3,5,6]]"
   ]
  },
  {
   "cell_type": "markdown",
   "metadata": {},
   "source": [
    "## matplotlib (plotting)"
   ]
  },
  {
   "cell_type": "markdown",
   "metadata": {},
   "source": [
    "This command allows the plots to show up in the notebook (not a python command!):"
   ]
  },
  {
   "cell_type": "code",
   "execution_count": 110,
   "metadata": {
    "collapsed": true
   },
   "outputs": [],
   "source": [
    "%matplotlib inline"
   ]
  },
  {
   "cell_type": "code",
   "execution_count": 111,
   "metadata": {
    "collapsed": true
   },
   "outputs": [],
   "source": [
    "import matplotlib.pyplot as plt"
   ]
  },
  {
   "cell_type": "code",
   "execution_count": 112,
   "metadata": {},
   "outputs": [
    {
     "data": {
      "text/plain": [
       "[<matplotlib.lines.Line2D at 0x11692c080>]"
      ]
     },
     "execution_count": 112,
     "metadata": {},
     "output_type": "execute_result"
    },
    {
     "data": {
      "image/png": "[encoded data removed]",
      "text/plain": [
       "<matplotlib.figure.Figure at 0x11679c4e0>"
      ]
     },
     "metadata": {},
     "output_type": "display_data"
    }
   ],
   "source": [
    "x = np.linspace(0, 1, 100)\n",
    "y = x**2\n",
    "plt.plot(x, y)"
   ]
  },
  {
   "cell_type": "code",
   "execution_count": 122,
   "metadata": {},
   "outputs": [
    {
     "data": {
      "text/plain": [
       "(5, 6)"
      ]
     },
     "execution_count": 122,
     "metadata": {},
     "output_type": "execute_result"
    }
   ],
   "source": [
    "x = 5\n",
    "y = x\n",
    "y = 6\n",
    "x, y"
   ]
  },
  {
   "cell_type": "code",
   "execution_count": 152,
   "metadata": {
    "collapsed": true
   },
   "outputs": [],
   "source": [
    "import re"
   ]
  },
  {
   "cell_type": "code",
   "execution_count": 153,
   "metadata": {
    "collapsed": true
   },
   "outputs": [],
   "source": [
    "s = 'hello, how are you?'"
   ]
  },
  {
   "cell_type": "code",
   "execution_count": 154,
   "metadata": {
    "collapsed": true
   },
   "outputs": [],
   "source": [
    "words = s.split()"
   ]
  },
  {
   "cell_type": "code",
   "execution_count": 155,
   "metadata": {},
   "outputs": [
    {
     "data": {
      "text/plain": [
       "['hello,', 'how', 'are', 'you?']"
      ]
     },
     "execution_count": 155,
     "metadata": {},
     "output_type": "execute_result"
    }
   ],
   "source": [
    "words"
   ]
  },
  {
   "cell_type": "code",
   "execution_count": 161,
   "metadata": {
    "collapsed": true
   },
   "outputs": [],
   "source": [
    "m = re.search('\\w+', words[0])"
   ]
  },
  {
   "cell_type": "code",
   "execution_count": 162,
   "metadata": {},
   "outputs": [
    {
     "data": {
      "text/plain": [
       "'hello'"
      ]
     },
     "execution_count": 162,
     "metadata": {},
     "output_type": "execute_result"
    }
   ],
   "source": [
    "m.group(0)"
   ]
  },
  {
   "cell_type": "code",
   "execution_count": 158,
   "metadata": {
    "collapsed": true
   },
   "outputs": [],
   "source": [
    "s = 'abcbca'\n",
    "m = re.search('b(cb)', s)"
   ]
  },
  {
   "cell_type": "code",
   "execution_count": 159,
   "metadata": {},
   "outputs": [
    {
     "data": {
      "text/plain": [
       "'bcb'"
      ]
     },
     "execution_count": 159,
     "metadata": {},
     "output_type": "execute_result"
    }
   ],
   "source": [
    "m.group(0)"
   ]
  },
  {
   "cell_type": "code",
   "execution_count": 160,
   "metadata": {},
   "outputs": [
    {
     "data": {
      "text/plain": [
       "'cb'"
      ]
     },
     "execution_count": 160,
     "metadata": {},
     "output_type": "execute_result"
    }
   ],
   "source": [
    "m.group(1)"
   ]
  },
  {
   "cell_type": "code",
   "execution_count": 165,
   "metadata": {},
   "outputs": [
    {
     "data": {
      "text/plain": [
       "'it'"
      ]
     },
     "execution_count": 165,
     "metadata": {},
     "output_type": "execute_result"
    }
   ],
   "source": [
    "m = re.search('\\w+', \"it's\")\n",
    "m.group(0)"
   ]
  },
  {
   "cell_type": "code",
   "execution_count": null,
   "metadata": {
    "collapsed": true
   },
   "outputs": [],
   "source": [
    "^ $"
   ]
  }
 ],
 "metadata": {
  "kernelspec": {
   "display_name": "Python 3",
   "language": "python",
   "name": "python3"
  },
  "language_info": {
   "codemirror_mode": {
    "name": "ipython",
    "version": 3
   },
   "file_extension": ".py",
   "mimetype": "text/x-python",
   "name": "python",
   "nbconvert_exporter": "python",
   "pygments_lexer": "ipython3",
   "version": "3.7.1"
  }
 },
 "nbformat": 4,
 "nbformat_minor": 2
}
