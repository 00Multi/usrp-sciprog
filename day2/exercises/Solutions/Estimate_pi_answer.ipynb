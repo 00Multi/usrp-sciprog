{
 "cells": [
  {
   "cell_type": "markdown",
   "metadata": {},
   "source": [
    "# Estimate pi\n",
    "Write a program that estimates the value of pi by the 'throw darts at a wall'\n",
    "   method.  That is, generate random `(x,y)` points and see if they fall within\n",
    "   the unit circle, and use these results to estimate pi. \n",
    "   \n",
    "Besides these instructions,\n",
    "   I will not give any more requirements to how you structure this exercise.\n",
    "   You may want to start with just writing functions and then at some point\n",
    "   reorganize into an object-oriented design. You may use .py files or this notebook or a mixture of both, it is entirely up to you. Please make sure that all the files you use are in a single folder that you will create inside the `day2/exercises` directory.\n",
    "\n",
    "* Do this estimate using 100, 1000, 10,000, and 1e6 points.\n",
    "* How long does the calculation take for different numbers of points?  Make a figure that illustrates how the calculation time depends on the number of points.      \n",
    "* Make a figure that displays the \"darts.\"\n",
    "* Run this calculation many times for a single `N` (number of darts), and plot a histogram of the results.  What is the mean and standard deviation of these estimates?\n",
    "* Make a plot that illustrates the precision of the pi estimate as a function of number of random points used.\n",
    "\n",
    "Make a notebook that demonstrates how your `pi_estimate` module works, as\n",
    "    well as presenting the results of all your calculations.  The notebook\n",
    "    should have minimal complicated code in it; rather, it should initialize\n",
    "    objects and call functions defined within the `pi_estimate` module.\n"
   ]
  },
  {
   "cell_type": "code",
   "execution_count": null,
   "metadata": {},
   "outputs": [],
   "source": [
    "import matplotlib.pyplot as plt\n",
    "import numpy as np"
   ]
  },
  {
   "cell_type": "code",
   "execution_count": null,
   "metadata": {},
   "outputs": [],
   "source": [
    "def throw(ndarts):\n",
    "    '''Function that 'throws n darts'\n",
    "    \n",
    "    This functions generates n sets of coordinates that are each drawn from a uniform distribution between -1 and 1\n",
    "    \n",
    "    Parameters\n",
    "    n: int\n",
    "        Number of coordinates to draw (darts to throw)\n",
    "    Returns\n",
    "    darts: array\n",
    "        array of size (2xn) with the coordinates of darts thrown\n",
    "    '''\n",
    "    return (np.random.rand(2,ndarts)-0.5)*2\n",
    "    "
   ]
  },
  {
   "cell_type": "code",
   "execution_count": null,
   "metadata": {},
   "outputs": [],
   "source": [
    "def is_in_unit_circle(dart):\n",
    "    ''' Checks if a dart is in the unit circle\n",
    "    \n",
    "    function that checks whether a coordinate `dart` is inside the unit circle\n",
    "    \n",
    "    Paramters\n",
    "    dart: array\n",
    "        Array of coordinates (dart positions) with size (2xn)\n",
    "    Returns\n",
    "    isincircle: array (boolean)\n",
    "        Array of size n set to `True` where `dart` is in the unit circle, false otherwise.  \n",
    "    '''\n",
    "    \n",
    "    #Distance to origin for each dart\n",
    "    distance = np.sqrt(np.sum(dart**2, axis = 0))\n",
    "    \n",
    "    isincircle = distance < 1\n",
    "    \n",
    "    return isincircle\n",
    "        "
   ]
  },
  {
   "cell_type": "code",
   "execution_count": null,
   "metadata": {},
   "outputs": [],
   "source": [
    "def plot_darts(ndarts, title = 'Throw of darts'):\n",
    "    '''\n",
    "    Function that displays a throw of darts and highlights darts in the unit circle with a different colour\n",
    "    \n",
    "    Parameters\n",
    "    ndarts: integer\n",
    "        number of dart throws\n",
    "    title: string\n",
    "        title for the plot\n",
    "    Returns\n",
    "    None\n",
    "    '''\n",
    "    darts = throw(ndarts)\n",
    "    incircle = is_in_unit_circle(darts)\n",
    "    \n",
    "    plt.figure(figsize=(10,10))\n",
    "    plt.title(title)\n",
    "    plt.plot(darts[0], darts[1], 'ob', label = 'not in unit circle')\n",
    "    plt.plot(darts[0,incircle], darts[1,incircle], 'or', label = 'in unit circle')\n",
    "    plt.legend()\n",
    "    plt.show()\n",
    "    return"
   ]
  },
  {
   "cell_type": "code",
   "execution_count": null,
   "metadata": {},
   "outputs": [],
   "source": [
    "def estimate_pi(ndarts):\n",
    "    ''' Function that estimates pi using the 'throw of darts' method\n",
    "    \n",
    "    Parameters\n",
    "    ndarts: int\n",
    "        number of darts to throw\n",
    "    Returns\n",
    "    pi: float\n",
    "        An estimate for pi\n",
    "    '''\n",
    "    darts = throw(ndarts)\n",
    "    incircle = is_in_unit_circle(darts)\n",
    "    return 4.*np.sum(incircle)/ndarts"
   ]
  },
  {
   "cell_type": "code",
   "execution_count": null,
   "metadata": {},
   "outputs": [],
   "source": [
    "#estimates pi with different dart throws:\n",
    "[print('estimate of pi from {} dart throws: {}.'.format(i,estimate_pi(i))) for i in [10,100,1000,10000, 100000]]"
   ]
  },
  {
   "cell_type": "code",
   "execution_count": null,
   "metadata": {},
   "outputs": [],
   "source": [
    "#Display a throw of 10000 darts:\n",
    "plot_darts(10000, title = '10000 darts')"
   ]
  },
  {
   "cell_type": "code",
   "execution_count": null,
   "metadata": {},
   "outputs": [],
   "source": [
    "def make_realisation(nrea, ndarts):\n",
    "    '''function that makes `nrea` realisations of `ndarts` dart throws and records the result\n",
    "    \n",
    "    Parameters\n",
    "    nrea: int\n",
    "        number of realisation\n",
    "    ndarts: int\n",
    "        number of darts thrown at each realisation\n",
    "    returns:\n",
    "    pies: array\n",
    "        array of the estimates of pi at each iteration\n",
    "    '''\n",
    "    pies = []\n",
    "    \n",
    "    [pies.append(estimate_pi(ndarts)) for i in range(nrea)]\n",
    "    return np.array(pies)\n",
    "        "
   ]
  },
  {
   "cell_type": "code",
   "execution_count": null,
   "metadata": {},
   "outputs": [],
   "source": [
    "#Shaw distribution of realisations for 100, 10000 and 100000 throws of darts\n",
    "rea100 = make_realisation(1000, 100)\n",
    "rea10000 = make_realisation(1000, 10000)\n",
    "rea100000 = make_realisation(1000, 100000)\n",
    "\n",
    "#Histogram of these realisations\n",
    "plt.title('distribution of pi estimates for various throws')\n",
    "plt.hist(rea100, bins = 20, label = '100 darts')\n",
    "plt.hist(rea10000, bins = 20, label = '10000 darts')\n",
    "plt.hist(rea100000, bins = 20, label = '100000 darts')\n",
    "plt.legend()\n",
    "plt.show()"
   ]
  },
  {
   "cell_type": "code",
   "execution_count": null,
   "metadata": {},
   "outputs": [],
   "source": [
    "def plot_pi_accuracy(nrea, nthrows):\n",
    "    '''\n",
    "    Function that plots the mean and standard deviation of the results of `nrea` realisations \n",
    "    of dart `nthrows` dart throws\n",
    "    \n",
    "    Parameters\n",
    "    nrea: int\n",
    "        number of realisations of throws for each number of throws\n",
    "    nthrows: array\n",
    "        array containing numbers of throws for which we want `nrea` realisations\n",
    "    Returns\n",
    "    None\n",
    "    '''\n",
    "    mean = []\n",
    "    std = []\n",
    "    for throw in nthrows:\n",
    "        realisations = make_realisation(nrea, throw)\n",
    "        mean.append(realisations.mean())\n",
    "        std.append(realisations.std())\n",
    "    plt.title('Accuracy of throw darts method')\n",
    "    plt.errorbar(range(np.size(nthrows)), mean, fmt = 'o', yerr = std, label = 'mean estimate for pi')\n",
    "    plt.plot([0,np.size(nthrows)], [np.pi, np.pi], label = 'True pi (numpy)')\n",
    "    plt.xlabel('number or darts')\n",
    "    plt.ylabel('pi estimate')\n",
    "    plt.xticks(range(np.size(nthrows)), (nthrows))\n",
    "    plt.legend()\n",
    "    plt.show()"
   ]
  },
  {
   "cell_type": "code",
   "execution_count": null,
   "metadata": {},
   "outputs": [],
   "source": [
    "plot_pi_accuracy(1000, [10,100,1000,10000,1000000])"
   ]
  },
  {
   "cell_type": "code",
   "execution_count": null,
   "metadata": {},
   "outputs": [],
   "source": []
  }
 ],
 "metadata": {
  "kernelspec": {
   "display_name": "Python 3",
   "language": "python",
   "name": "python3"
  },
  "language_info": {
   "codemirror_mode": {
    "name": "ipython",
    "version": 3
   },
   "file_extension": ".py",
   "mimetype": "text/x-python",
   "name": "python",
   "nbconvert_exporter": "python",
   "pygments_lexer": "ipython3",
   "version": "3.7.3"
  }
 },
 "nbformat": 4,
 "nbformat_minor": 2
}
