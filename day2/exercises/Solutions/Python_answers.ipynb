{
 "cells": [
  {
   "cell_type": "markdown",
   "metadata": {},
   "source": [
    "# Exercises"
   ]
  },
  {
   "cell_type": "markdown",
   "metadata": {},
   "source": [
    "***Rules***:\n",
    "\n",
    "* Every variable/function/class name should be meaningful\n",
    "* Variable/function names should be lowercase, class names uppercase\n",
    "* Write a documentation string (even if minimal) for every function."
   ]
  },
  {
   "cell_type": "markdown",
   "metadata": {},
   "source": [
    "1) (From [jakevdp](https://github.com/jakevdp/2014_fall_ASTR599/blob/master/notebooks/01_basic_training.ipynb)): Create a program (a .py file) which repeatedly asks the user for a word. The program should append all the words together. When the user types a \"!\", \"?\", or a \".\", the program should print the resulting sentence and exit.\n",
    "\n",
    "   For example, a session might look like this::\n",
    "\n",
    "    $ ./make_sentence.py\n",
    "    Enter a word (. ! or ? to end): My\n",
    "    Enter a word (. ! or ? to end): name\n",
    "    Enter a word (. ! or ? to end): is\n",
    "    Enter a word (. ! or ? to end): Walter\n",
    "    Enter a word (. ! or ? to end): White\n",
    "    Enter a word (. ! or ? to end): !\n",
    "    \n",
    "    My name is Walter White!"
   ]
  },
  {
   "cell_type": "markdown",
   "metadata": {},
   "source": [
    "2) (From [jakevdp](https://github.com/jakevdp/2014_fall_ASTR599/blob/master/notebooks/01_basic_training.ipynb)):  Write a program that prints the numbers from 1 to 100. But for multiples of three print “Fizz” instead of the number and for the multiples of five print “Buzz”. For numbers which are multiples of both three and five print “FizzBuzz”. If you finish quickly... see how **few** characters you can write this program in (this is known as \"code golf\": going for the fewest key strokes).\n"
   ]
  },
  {
   "cell_type": "code",
   "execution_count": null,
   "metadata": {},
   "outputs": [],
   "source": [
    "#I don't think this is the code golf winner. Try to beat me.\n",
    "for i in range(100):\n",
    "    print('FizzBuzz'*(not (i+1)%5)*(not (i+1)%3) or 'Fizz'*(not (i+1)%5) or 'Buzz'*(not (i+1)%3) or str(i+1))"
   ]
  },
  {
   "cell_type": "markdown",
   "metadata": {},
   "source": [
    "2) Write a function called ``sum_digits`` that returns the sum of the digits of an integer argument; that is, ``sum_digits(123)`` should return ``6``.  Use this function in an other function that prints out the sum of the digits of every integer multiple of the first argument, up to either a second optional argument (if included) or the first argument's square.  That is::\n",
    "\n",
    "    list_multiple(4) #with one argument\n",
    "    4\n",
    "    8\n",
    "    3\n",
    "    7\n",
    "    \n",
    "And I'll let you figure out what it looks like with a second optional argument"
   ]
  },
  {
   "cell_type": "code",
   "execution_count": null,
   "metadata": {},
   "outputs": [],
   "source": [
    "def sum_digits(number):\n",
    "    '''\n",
    "    Function that takes a number as an input and sums its digits\n",
    "    \n",
    "    Parameters\n",
    "    number: int\n",
    "        an integer number with several digits\n",
    "    Returns\n",
    "    total: int\n",
    "        the sum of the digits in number\n",
    "    '''\n",
    "    string_num = str(number)\n",
    "    total = 0\n",
    "    for letter in string_num:\n",
    "        total += int(letter)\n",
    "    return total\n",
    "\n",
    "def list_multiple(number, limit = None):\n",
    "    '''\n",
    "    Function that lists the sum_digits of every multiple of the input \n",
    "    until the limit or the square of number is reached\n",
    "    \n",
    "    Parameters\n",
    "    number: int\n",
    "        an integer \n",
    "    Optional\n",
    "    limit: int\n",
    "        limit on the multiple of number for which to print its sum_digits()\n",
    "    Returns\n",
    "    None\n",
    "    '''\n",
    "    if limit == None:\n",
    "        limit = number**2\n",
    "    mul = 1\n",
    "    result = number+0\n",
    "    while (result+number) < limit:\n",
    "        result = mul*number\n",
    "        mul += 1\n",
    "        print(sum_digits(result))\n",
    "    return"
   ]
  },
  {
   "cell_type": "code",
   "execution_count": null,
   "metadata": {},
   "outputs": [],
   "source": [
    "print(sum_digits(128))\n",
    "\n",
    "list_multiple(4, 21)"
   ]
  },
  {
   "cell_type": "markdown",
   "metadata": {},
   "source": [
    "5) This is an object oriented problem. Make sure you covered a relevant tutorial before covering this. \n",
    "\n",
    "Some fun with object-oriented programming: make a file called ``solarsystem.py`` that defines ``Star``, ``Planet``, and ``System`` objects that enable the provided notebook file to work as demonstrated.  If you finish this, feel free to add more functionality to these objects!"
   ]
  }
 ],
 "metadata": {
  "kernelspec": {
   "display_name": "Python 3",
   "language": "python",
   "name": "python3"
  },
  "language_info": {
   "codemirror_mode": {
    "name": "ipython",
    "version": 3
   },
   "file_extension": ".py",
   "mimetype": "text/x-python",
   "name": "python",
   "nbconvert_exporter": "python",
   "pygments_lexer": "ipython3",
   "version": "3.7.3"
  }
 },
 "nbformat": 4,
 "nbformat_minor": 2
}
