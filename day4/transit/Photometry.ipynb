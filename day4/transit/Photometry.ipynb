{
 "cells": [
  {
   "cell_type": "markdown",
   "metadata": {},
   "source": [
    "# Point-Source Photometry\n",
    "\n",
    "If it's one thing an observational astronomer can do, it's measuring the flux of something. The easiest of these somethings are stars. We will see why that is.\n",
    "\n",
    "When we talk about **flux** in the context of this notebook, what we mean is the number of photons recorded in an image like this:\n",
    "\n",
    "![](https://apod.nasa.gov/apod/image/0202/ngc6397_hst.jpg)\n",
    "\n",
    "Fluxes are often converted to magnitudes, a logarithmic measure. This goes back to the practice of ancient Arabs, who classified the brightest stars with number 1, and the faintest one they could see with number 6. The most common convention today is the so-called AB magnitude:\n",
    "\n",
    "$$\n",
    "m_\\text{AB} = -2.5 \\log_{10} f - 48.60\n",
    "$$\n",
    "\n",
    "where $f$ is the *spectral* flux in units of $erg/s/cm^2/Hz$, so it's the energy received by the instrument per time, collecting area and frequency.\n",
    "\n",
    "This all boils down to counting photons.\n",
    "\n",
    "## Exercise 1:\n",
    "\n",
    "FITS is the ubiquitous file format in astronomy. Open the file `data/point-source.fits` with [astropy](https://docs.astropy.org/en/stable/io/fits/). Plot the image."
   ]
  },
  {
   "cell_type": "code",
   "execution_count": null,
   "metadata": {},
   "outputs": [],
   "source": [
    "%matplotlib inline\n",
    "import matplotlib.pyplot as plt\n",
    "import numpy as np\n"
   ]
  },
  {
   "cell_type": "markdown",
   "metadata": {},
   "source": [
    "We can see a star with an apparently Gaussian shape, plus a fair bit of noise. \n",
    "\n",
    "Btw, what determines the shape of a star?\n",
    "\n",
    "## Exercise 2:\n",
    "\n",
    "Use the 2D Gaussian implementation from [astropy](https://docs.astropy.org/en/stable/api/astropy.modeling.functional_models.Gaussian2D.html) to create in image of a circular Gaussian model that looks similar to the data above. How many parameters does this model have?"
   ]
  },
  {
   "cell_type": "code",
   "execution_count": null,
   "metadata": {},
   "outputs": [],
   "source": []
  },
  {
   "cell_type": "markdown",
   "metadata": {},
   "source": [
    "## Exercise 3:\n",
    "\n",
    "Assume that your guess for the position of the stars is correct, or that somebody told you the exact position (if the star is bright enough, Gaia can tell you very precisely its position on the sky). \n",
    "Finding the flux of the star is then a linear problem:\n",
    "\n",
    "$$\n",
    "I = f \\cdot \\mathrm{Gaussian} + s \\cdot\\mathrm{const} + \\mathrm{noise}\n",
    "$$\n",
    "\n",
    "Flatten the image and write down the design matrix, including a constant term. "
   ]
  },
  {
   "cell_type": "code",
   "execution_count": null,
   "metadata": {},
   "outputs": [],
   "source": []
  },
  {
   "cell_type": "markdown",
   "metadata": {},
   "source": [
    "Like all counting experiments, the noise in this image follows a **Poisson distribution**. The nice thing about the Poisson distribution is that it quickly looks like the Gaussian when the counts are high enough. In this case, the noise is very well approximated by\n",
    "\n",
    "$$\n",
    "\\sigma_i^2 = I_i\n",
    "$$\n",
    "\n",
    "where $i$ is the pixel index, and $I_i$ the intensity value of the pixel. Construct the covariance matrix $\\Sigma$ for the flattened image, and determine the parameters $f$ and $s$ by solving the ordinary least-squares problem. Don't forget the covariance matrix! What's the meaning of the constant term?"
   ]
  },
  {
   "cell_type": "code",
   "execution_count": null,
   "metadata": {},
   "outputs": [],
   "source": []
  },
  {
   "cell_type": "markdown",
   "metadata": {},
   "source": [
    "## Exercise 4:\n",
    "\n",
    "Assume now that you don't know the position, or at least not well enough. Use `scipy.optimimze.minimize` to fit 4 parameters: $f$ and $s$ (as above) as well as the position $x_m$ and $y_m$.\n",
    "\n",
    "The function you want to minimize to find the \"best-fit\" parameters is the one that maximizes the likelihood. Since we're dealing with (assumed) Gaussian errors, this is the usual quadratic error form\n",
    "\n",
    "$$\n",
    "\\chi^2(f, s, x_m, y_m;\\ \\lbrace I_i \\rbrace) = \\sum_i^N \\frac{\\left(I_i - \\mathrm{Gaussian}(x_i, y_i; f, x_m, y_m) - s\\right)^2}{\\sigma_i^2},\n",
    "$$\n",
    "\n",
    "where $x_i$ and $y_i$ are the position of pixel $i$.\n",
    "\n",
    "**Note: Minimizing $\\chi^2$ means altering the *parameters* at fixed data.**\n",
    "\n",
    "Start with your best-guess for the positions as well as the results from Exercise 3."
   ]
  },
  {
   "cell_type": "code",
   "execution_count": null,
   "metadata": {},
   "outputs": [],
   "source": []
  }
 ],
 "metadata": {
  "kernelspec": {
   "display_name": "Python 3",
   "language": "python",
   "name": "python3"
  },
  "language_info": {
   "codemirror_mode": {
    "name": "ipython",
    "version": 3
   },
   "file_extension": ".py",
   "mimetype": "text/x-python",
   "name": "python",
   "nbconvert_exporter": "python",
   "pygments_lexer": "ipython3",
   "version": "3.7.4"
  }
 },
 "nbformat": 4,
 "nbformat_minor": 4
}
