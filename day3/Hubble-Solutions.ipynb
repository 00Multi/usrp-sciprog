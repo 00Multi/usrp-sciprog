{
 "cells": [
  {
   "cell_type": "markdown",
   "metadata": {
    "deletable": true,
    "editable": true
   },
   "source": [
    "# Expansion velocity of the universe\n",
    "\n",
    "In 1929, Edwin Hubble published a paper in which he compared the radial velocity of objects with their distance. The former can be done pretty precisely with spectroscopy, the latter is much more uncertain. His original data are here.\n",
    "\n",
    "He saw that the velocity increases with distance and speculated that this could be the sign of a cosmological expansion. Let's find out what he did.\n",
    "\n",
    "Load the data into an array with numpy.genfromtxt. You will find 6 columns\n",
    "   * `CAT`, `NUMBER`:  These two combined give you the name of the galaxy.\n",
    "   * `R`: distance in Mpc\n",
    "   * `V`: radial velocity in km/s\n",
    "   * `RA`, `DEC`: equatorial coordinates of the galaxy "
   ]
  },
  {
   "cell_type": "code",
   "execution_count": null,
   "metadata": {
    "collapsed": true,
    "deletable": true,
    "editable": true
   },
   "outputs": [],
   "source": [
    "import numpy as np\n",
    "data = np.genfromtxt(\"table1.txt\", names=True, dtype=None)\n",
    "N = len(data)"
   ]
  },
  {
   "cell_type": "markdown",
   "metadata": {
    "deletable": true,
    "editable": true
   },
   "source": [
    "Make a scatter plot of `V` vs `R`. Don't forget labels and units..."
   ]
  },
  {
   "cell_type": "code",
   "execution_count": null,
   "metadata": {
    "collapsed": false,
    "deletable": true,
    "editable": true
   },
   "outputs": [],
   "source": [
    "%matplotlib inline\n",
    "import matplotlib\n",
    "import numpy as np\n",
    "import matplotlib.pyplot as plt\n",
    "\n",
    "fig = plt.figure()\n",
    "ax = fig.add_subplot(111)\n",
    "ax.scatter(data['R'], data['V'], c='#ff9900', marker='o')\n",
    "ax.set_xlim(xmin=0, xmax=2.5)\n",
    "ax.set_xlabel('Distance [Mpc]')\n",
    "ax.set_ylabel('Velocity [km/s]')"
   ]
  },
  {
   "cell_type": "markdown",
   "metadata": {
    "deletable": true,
    "editable": true
   },
   "source": [
    "Use `np.linalg.lstsq` to fit a linear regression function and determine the slope $H_0$ of the line $V=H_0 R$. For that, reshape $R$ as a Nx1 matrix (the design matrix) and solve for 1 unknown parameter. Add the best-fit line to the plot."
   ]
  },
  {
   "cell_type": "code",
   "execution_count": null,
   "metadata": {
    "collapsed": false,
    "deletable": true,
    "editable": true
   },
   "outputs": [],
   "source": [
    "A = data['R'].reshape(N,1)\n",
    "params, _, _, _ = np.linalg.lstsq(A, data['V'])\n",
    "print(params)\n",
    "H0 = params[0]\n",
    "\n",
    "R = np.linspace(0,2.5,100)\n",
    "fig = plt.figure()\n",
    "ax = fig.add_subplot(111)\n",
    "ax.scatter(data['R'], data['V'], c='#ff9900', marker='o')\n",
    "ax.plot(R, H0*R, 'k--')\n",
    "ax.set_xlim(xmin=0, xmax=2.5)\n",
    "ax.set_xlabel('Distance [Mpc]')\n",
    "ax.set_ylabel('Velocity [km/s]')"
   ]
  },
  {
   "cell_type": "markdown",
   "metadata": {
    "deletable": true,
    "editable": true
   },
   "source": [
    "Why is there scatter with respect to the best-fit curve? Is it fair to only fit for the slope and not also for the intercept? How would $H_0$ change if you include an intercept in the fit?"
   ]
  },
  {
   "cell_type": "code",
   "execution_count": null,
   "metadata": {
    "collapsed": false,
    "deletable": true,
    "editable": true
   },
   "outputs": [],
   "source": [
    "Ac = np.empty((N,2))\n",
    "Ac[:,0] = data['R']\n",
    "Ac[:,1] = 1\n",
    "params_c, _, _, _ = np.linalg.lstsq(Ac, data['V'])\n",
    "print(params_c)\n",
    "H0_c = params_c[0]\n",
    "intercept = params_c[1]\n",
    "\n",
    "fig = plt.figure()\n",
    "ax = fig.add_subplot(111)\n",
    "ax.scatter(data['R'], data['V'], c='#ff9900', marker='o')\n",
    "ax.plot(R, H0*R, 'k--')\n",
    "ax.plot(R, intercept + H0_c*R, 'k-.')\n",
    "ax.set_xlim(xmin=0, xmax=2.5)\n",
    "ax.set_xlabel('Distance [Mpc]')\n",
    "ax.set_ylabel('Velocity [km/s]')"
   ]
  },
  {
   "cell_type": "markdown",
   "metadata": {
    "deletable": true,
    "editable": true
   },
   "source": [
    "$V$ as given in the table is a combination of any assumed cosmic expansion and the motion of the sun with respect to that cosmic frame. Generalize the model to $V=H_0 R + V_s$, where the solar velocity is given by $V_s = X \\cos(RA)\\cos(DEC) + Y\\sin(RA)\\cos(DEC)+Z\\sin(DEC)$. Construct a new $N\\times4$ design matrix for the four unknown parameters $H_0$, $X$, $Y$, $Z$ to account for the solar motion. Use `astropy` to convert the coordinate strings `RA` and `DEC` to floating points coordinates in degrees. The resulting $H_0$ is Hubble's own version of the \"Hubble constant\". What do you get?"
   ]
  },
  {
   "cell_type": "code",
   "execution_count": null,
   "metadata": {
    "collapsed": false,
    "deletable": true,
    "editable": true
   },
   "outputs": [],
   "source": [
    "from coordinates import *\n",
    "ra = Ra2Deg(data['RA'])\n",
    "dec = Dec2Deg(data['DEC'])\n",
    "\n",
    "Ah = np.empty((N,4))\n",
    "Ah[:,0] = data['R']\n",
    "Ah[:,1] = np.cos(ra*np.pi/180)*np.cos(dec*np.pi/180)\n",
    "Ah[:,2] = np.sin(ra*np.pi/180)*np.cos(dec*np.pi/180)\n",
    "Ah[:,3] = np.sin(dec*np.pi/180)\n",
    "params_h, _, _, _ = np.linalg.lstsq(Ah, data['V'])\n",
    "print(params_h)\n",
    "H0 = params_h[0]"
   ]
  },
  {
   "cell_type": "markdown",
   "metadata": {
    "deletable": true,
    "editable": true
   },
   "source": [
    "Make a scatter plot of $V-V_S$ vs $R$. Add the best-fit linear regression line."
   ]
  },
  {
   "cell_type": "code",
   "execution_count": null,
   "metadata": {
    "collapsed": false,
    "deletable": true,
    "editable": true
   },
   "outputs": [],
   "source": [
    "VS = params_h[1]*Ah[:,1] + params_h[2]*Ah[:,2] + params_h[3]*Ah[:,3]\n",
    "fig = plt.figure()\n",
    "ax = fig.add_subplot(111)\n",
    "ax.scatter(data['R'], data['V'] - VS, c='#ff9900', marker='o')\n",
    "ax.plot(R, H0*R, 'k-')\n",
    "ax.set_xlim(xmin=0, xmax=2.5)\n",
    "ax.set_xlabel('Distance [Mpc]')\n",
    "ax.set_ylabel('Velocity [km/s]')"
   ]
  },
  {
   "cell_type": "markdown",
   "metadata": {
    "deletable": true,
    "editable": true
   },
   "source": [
    "Using `astropy.units`, can you estimate the age of the universe from $H_0$? Does it make sense?"
   ]
  },
  {
   "cell_type": "code",
   "execution_count": null,
   "metadata": {
    "collapsed": false,
    "deletable": true,
    "editable": true
   },
   "outputs": [],
   "source": [
    "Mpc = 3.0857e19 # in km\n",
    "Year = 60.*60.*24.*365 # in seconds\n",
    "age = (H0 / Mpc * Year)**-1\n",
    "age / 1e9 # in billion years"
   ]
  },
  {
   "cell_type": "markdown",
   "metadata": {
    "deletable": true,
    "editable": true
   },
   "source": [
    "## Deconstructing lstsq\n",
    "\n",
    "So far we have not incorporated any measurement uncertainties. Can you guess or estimate them from the scatter with respect to the best-fit line? You may want to look at the residuals returned by `np.linalg.lstsq`..."
   ]
  },
  {
   "cell_type": "code",
   "execution_count": null,
   "metadata": {
    "collapsed": false,
    "deletable": true,
    "editable": true
   },
   "outputs": [],
   "source": [
    "scatter = data['V'] - VS - H0*data['R']\n",
    "fig = plt.figure()\n",
    "ax = fig.add_subplot(111)\n",
    "ax.hist(scatter, 10)\n",
    "ax.set_xlabel('$\\Delta$V [km/s]')"
   ]
  },
  {
   "cell_type": "markdown",
   "metadata": {
    "deletable": true,
    "editable": true
   },
   "source": [
    "Let see how adopting a suitable value $\\sigma$ for those uncertainties would affect the estimate of $H_0$?\n",
    "\n",
    "The problem you solved so far is $Ax=b$, and errors don't occur. With errors the respective equation is changed to $A^\\top \\Sigma^{-1} Ax=A^\\top \\Sigma^{-1}b$, where in this case the covariance matrix $\\Sigma=\\sigma^2\\mathbf{1}$. This problem can still be solved by `np.linalg.lstsq`.\n",
    "\n",
    "Construct the modified design matrix and data vector and get a new estimate of $H_0$. Has it changed? Use `np.dot`, `np.transpose`, and `np.linalg.inv` (or their shorthands)."
   ]
  },
  {
   "cell_type": "code",
   "execution_count": null,
   "metadata": {
    "collapsed": false,
    "deletable": true,
    "editable": true
   },
   "outputs": [],
   "source": [
    "error = scatter.std()\n",
    "Sigma = error**2*np.eye(N)\n",
    "Ae = np.dot(Ah.T, np.dot(np.linalg.inv(Sigma), Ah))\n",
    "be = np.dot(Ah.T, np.dot(np.linalg.inv(Sigma), data['V']))\n",
    "params_e, _, _, _ = np.linalg.lstsq(Ae, be)\n",
    "print(params_e)"
   ]
  },
  {
   "cell_type": "markdown",
   "metadata": {
    "deletable": true,
    "editable": true
   },
   "source": [
    "Compute the parameter covariance matrix $S=(A^\\top \\Sigma^{-1} A)^{-1}$ and read off the variance of $H_0$. Update your plot to illustrate that uncertainty."
   ]
  },
  {
   "cell_type": "code",
   "execution_count": null,
   "metadata": {
    "collapsed": false,
    "deletable": true,
    "editable": true
   },
   "outputs": [],
   "source": [
    "S = np.linalg.inv(Ae)\n",
    "dH0 = np.sqrt(S[0,0])\n",
    "print(dH0)"
   ]
  },
  {
   "cell_type": "code",
   "execution_count": null,
   "metadata": {
    "collapsed": false,
    "deletable": true,
    "editable": true
   },
   "outputs": [],
   "source": [
    "fig = plt.figure()\n",
    "ax = fig.add_subplot(111)\n",
    "ax.scatter(data['R'], data['V'] - VS, c='#ff9900', marker='o')\n",
    "ax.plot(R, H0*R, 'k-')\n",
    "ax.plot(R, (H0-dH0)*R, 'k--')\n",
    "ax.plot(R, (H0+dH0)*R, 'k--')\n",
    "ax.set_xlim(xmin=0, xmax=2.5)\n",
    "ax.set_xlabel('Distance [Mpc]')\n",
    "ax.set_ylabel('Velocity [km/s]')"
   ]
  },
  {
   "cell_type": "markdown",
   "metadata": {
    "deletable": true,
    "editable": true
   },
   "source": [
    "How large is the relative error?  Would that help with the problematic age estimate above?"
   ]
  },
  {
   "cell_type": "code",
   "execution_count": null,
   "metadata": {
    "collapsed": false,
    "deletable": true,
    "editable": true
   },
   "outputs": [],
   "source": [
    "age = ((H0 - dH0)/ Mpc * Year)**-1\n",
    "age / 1e9 # in billion years"
   ]
  },
  {
   "cell_type": "markdown",
   "metadata": {
    "deletable": true,
    "editable": true
   },
   "source": [
    "Compare the noise-free result from above (Hubble's result) with $SA^\\top \\Sigma^{-1}b$. Did adopting errors change the result?"
   ]
  },
  {
   "cell_type": "code",
   "execution_count": null,
   "metadata": {
    "collapsed": false,
    "deletable": true,
    "editable": true
   },
   "outputs": [],
   "source": [
    "params_h, _, _, _ = np.linalg.lstsq(Ah, data['V'])\n",
    "print(params_h)\n",
    "print (np.dot(S, be))"
   ]
  }
 ],
 "metadata": {
  "kernelspec": {
   "display_name": "Python 3",
   "language": "python",
   "name": "python3"
  },
  "language_info": {
   "codemirror_mode": {
    "name": "ipython",
    "version": 3
   },
   "file_extension": ".py",
   "mimetype": "text/x-python",
   "name": "python",
   "nbconvert_exporter": "python",
   "pygments_lexer": "ipython3",
   "version": "3.5.2"
  }
 },
 "nbformat": 4,
 "nbformat_minor": 0
}
