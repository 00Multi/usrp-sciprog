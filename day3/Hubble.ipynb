{
 "cells": [
  {
   "cell_type": "markdown",
   "metadata": {},
   "source": [
    "# Expansion velocity of the universe\n",
    "\n",
    "In 1929, Edwin Hubble published a [paper](http://www.pnas.org/content/pnas/15/3/168.full.pdf) in which he compared the radial velocity of objects with their distance. The former can be done pretty precisely with spectroscopy, the latter is much more uncertain. His original data are [here](table1.txt).\n",
    "\n",
    "He saw that the velocity increases with distance and speculated that this could be the sign of a cosmological expansion. Let's find out what he did.\n",
    "\n",
    "First, the usual python imports:"
   ]
  },
  {
   "cell_type": "code",
   "execution_count": 3,
   "metadata": {},
   "outputs": [],
   "source": [
    "%matplotlib inline\n",
    "import numpy as np\n",
    "import matplotlib.pyplot as plt"
   ]
  },
  {
   "cell_type": "markdown",
   "metadata": {},
   "source": [
    "### Exercise 1:\n",
    "\n",
    "Load the data into an array with `numpy.genfromtxt`, make use of its arguments `names` and `dtype` to read in the column names from the header and choosing the data type on its own as needed. You should get 6 columns\n",
    "   * `CAT`, `NUMBER`:  These two combined give you the name of the galaxy.\n",
    "   * `R`: distance in Mpc\n",
    "   * `V`: radial velocity in km/s\n",
    "   * `RA`, `DEC`: equatorial coordinates of the galaxy\n",
    "   \n",
    "Make a scatter plot of V vs R. Don't forget labels and units..."
   ]
  },
  {
   "cell_type": "code",
   "execution_count": 9,
   "metadata": {},
   "outputs": [
    {
     "data": {
      "text/plain": [
       "array([('Mag', 'S', 0.032,  170, '00:51:00', '-73:06:00'),\n",
       "       ('Mag', 'L', 0.034,  290, '05:24:00', '-69:48:00'),\n",
       "       ('NGC', '6822', 0.214, -130, '19:44:58', '-14:48:12'),\n",
       "       ('NGC', '598', 0.263,  -70, '01:31:02', '30:24:15'),\n",
       "       ('NGC', '221', 0.275, -185, '00:39:58', '40:35:20'),\n",
       "       ('NGC', '224', 0.275, -220, '00:40:00', '40:59:43'),\n",
       "       ('NGC', '5457', 0.45 ,  200, '14:01:26', '54:35:18'),\n",
       "       ('NGC', '4736', 0.5  ,  290, '12:48:32', '41:23:32'),\n",
       "       ('NGC', '5194', 0.5  ,  270, '13:27:46', '47:27:10'),\n",
       "       ('NGC', '4449', 0.63 ,  200, '12:25:45', '44:22:12'),\n",
       "       ('NGC', '4214', 0.8  ,  300, '12:13:09', '36:36:17'),\n",
       "       ('NGC', '3031', 0.9  ,  -30, '09:51:27', '69:18:08'),\n",
       "       ('NGC', '3627', 0.9  ,  650, '11:17:39', '13:15:56'),\n",
       "       ('NGC', '4826', 0.9  ,  150, '12:54:16', '21:57:12'),\n",
       "       ('NGC', '5236', 0.9  ,  500, '13:34:12', '-29:36:39'),\n",
       "       ('NGC', '1068', 1.   ,  920, '02:40:07', '-00:13:32'),\n",
       "       ('NGC', '5055', 1.1  ,  450, '13:13:35', '42:17:35'),\n",
       "       ('NGC', '7331', 1.1  ,  500, '22:34:47', '34:09:20'),\n",
       "       ('NGC', '4258', 1.4  ,  500, '12:16:29', '47:34:53'),\n",
       "       ('NGC', '4151', 1.7  ,  960, '12:08:01', '39:41:02'),\n",
       "       ('NGC', '4382', 2.   ,  500, '12:22:53', '18:28:06'),\n",
       "       ('NGC', '4472', 2.   ,  850, '12:27:14', '08:16:36'),\n",
       "       ('NGC', '4486', 2.   ,  800, '12:28:18', '12:40:02'),\n",
       "       ('NGC', '4649', 2.   , 1090, '12:41:09', '11:49:35')],\n",
       "      dtype=[('CAT', '<U3'), ('NUMBER', '<U4'), ('R', '<f8'), ('V', '<i8'), ('RA', '<U8'), ('DEC', '<U9')])"
      ]
     },
     "execution_count": 9,
     "metadata": {},
     "output_type": "execute_result"
    }
   ],
   "source": [
    "# load file into variable `data` ...\n",
    "data = np.genfromtxt('table1.txt', dtype = None, names = True, encoding ='utf8')\n",
    "data"
   ]
  },
  {
   "cell_type": "code",
   "execution_count": 5,
   "metadata": {},
   "outputs": [
    {
     "data": {
      "text/plain": [
       "<matplotlib.collections.PathCollection at 0x7f6728d982e8>"
      ]
     },
     "execution_count": 5,
     "metadata": {},
     "output_type": "execute_result"
    },
    {
     "data": {
      "image/png": "[encoded data removed]",
      "text/plain": [
       "<Figure size 432x288 with 1 Axes>"
      ]
     },
     "metadata": {
      "needs_background": "light"
     },
     "output_type": "display_data"
    }
   ],
   "source": [
    "# make scatter plot\n",
    "plt.scatter(data['R'], data['V'])"
   ]
  },
  {
   "cell_type": "markdown",
   "metadata": {},
   "source": [
    "### Exercise 2:\n",
    "\n",
    "Use your knowledge of linear first to determine the slope $H_0$ of the line $V=H_0 R$. This is a linear model **with no intercept**. For that, reshape $R$ as a $N\\times1$ design matrix and solve for 1 unknown parameter. Then, update the plot by adding the best-fit line."
   ]
  },
  {
   "cell_type": "code",
   "execution_count": 8,
   "metadata": {},
   "outputs": [
    {
     "name": "stdout",
     "output_type": "stream",
     "text": [
      "[423.93732323]\n"
     ]
    },
    {
     "name": "stderr",
     "output_type": "stream",
     "text": [
      "/home/ishanikulkarni/anaconda3/lib/python3.7/site-packages/ipykernel_launcher.py:6: FutureWarning: `rcond` parameter will change to the default of machine precision times ``max(M, N)`` where M and N are the input matrix dimensions.\n",
      "To use the future default and silence this warning we advise to pass `rcond=None`, to keep using the old, explicitly pass `rcond=-1`.\n",
      "  \n"
     ]
    },
    {
     "data": {
      "text/plain": [
       "[<matplotlib.lines.Line2D at 0x7f6728c66fd0>]"
      ]
     },
     "execution_count": 8,
     "metadata": {},
     "output_type": "execute_result"
    },
    {
     "data": {
      "image/png": "[encoded data removed]",
      "text/plain": [
       "<Figure size 432x288 with 1 Axes>"
      ]
     },
     "metadata": {
      "needs_background": "light"
     },
     "output_type": "display_data"
    }
   ],
   "source": [
    "N = len(data)\n",
    "R = data['R'].reshape(N, 1)\n",
    "R\n",
    "\n",
    "X = data['R'].reshape((N,1))\n",
    "params, _, _, _ = np.linalg.lstsq(X, data['V'])\n",
    "print(params)\n",
    "H0 = params[0]\n",
    "\n",
    "R = np.linspace(0,2.5,100)\n",
    "fig = plt.figure()\n",
    "ax = fig.add_subplot(111)\n",
    "ax.scatter(data['R'], data['V'])\n",
    "ax.plot(R, H0*R, 'k--')"
   ]
  },
  {
   "cell_type": "markdown",
   "metadata": {},
   "source": [
    "Can you guess the cause for the scatter with respect to the best-fit curve? Is it fair or even appropriate to fit only for the slope and not also for the intercept? How would $H_0$ change if you include an intercept in the fit?"
   ]
  },
  {
   "cell_type": "code",
   "execution_count": 11,
   "metadata": {},
   "outputs": [
    {
     "name": "stdout",
     "output_type": "stream",
     "text": [
      "(array([-40.7836491 , 454.15844092]), array([1193442.36627214]), 2, array([6.98607217, 2.17085022]))\n"
     ]
    },
    {
     "name": "stderr",
     "output_type": "stream",
     "text": [
      "/home/ishanikulkarni/anaconda3/lib/python3.7/site-packages/ipykernel_launcher.py:3: FutureWarning: `rcond` parameter will change to the default of machine precision times ``max(M, N)`` where M and N are the input matrix dimensions.\n",
      "To use the future default and silence this warning we advise to pass `rcond=None`, to keep using the old, explicitly pass `rcond=-1`.\n",
      "  This is separate from the ipykernel package so we can avoid doing imports until\n"
     ]
    },
    {
     "ename": "ValueError",
     "evalue": "too many values to unpack (expected 2)",
     "output_type": "error",
     "traceback": [
      "\u001b[0;31m---------------------------------------------------------------------------\u001b[0m",
      "\u001b[0;31mValueError\u001b[0m                                Traceback (most recent call last)",
      "\u001b[0;32m<ipython-input-11-25f43895d8ce>\u001b[0m in \u001b[0;36m<module>\u001b[0;34m\u001b[0m\n\u001b[1;32m      3\u001b[0m \u001b[0mparams\u001b[0m \u001b[0;34m=\u001b[0m \u001b[0mnp\u001b[0m\u001b[0;34m.\u001b[0m\u001b[0mlinalg\u001b[0m\u001b[0;34m.\u001b[0m\u001b[0mlstsq\u001b[0m\u001b[0;34m(\u001b[0m\u001b[0mX\u001b[0m\u001b[0;34m,\u001b[0m \u001b[0mdata\u001b[0m\u001b[0;34m[\u001b[0m\u001b[0;34m'V'\u001b[0m\u001b[0;34m]\u001b[0m\u001b[0;34m)\u001b[0m\u001b[0;34m\u001b[0m\u001b[0;34m\u001b[0m\u001b[0m\n\u001b[1;32m      4\u001b[0m \u001b[0mprint\u001b[0m\u001b[0;34m(\u001b[0m\u001b[0mparams\u001b[0m\u001b[0;34m)\u001b[0m\u001b[0;34m\u001b[0m\u001b[0;34m\u001b[0m\u001b[0m\n\u001b[0;32m----> 5\u001b[0;31m \u001b[0minter\u001b[0m\u001b[0;34m,\u001b[0m \u001b[0mH0\u001b[0m \u001b[0;34m=\u001b[0m \u001b[0mparams\u001b[0m\u001b[0;34m\u001b[0m\u001b[0;34m\u001b[0m\u001b[0m\n\u001b[0m\u001b[1;32m      6\u001b[0m \u001b[0;34m\u001b[0m\u001b[0m\n\u001b[1;32m      7\u001b[0m \u001b[0mR\u001b[0m \u001b[0;34m=\u001b[0m \u001b[0mnp\u001b[0m\u001b[0;34m.\u001b[0m\u001b[0mlinspace\u001b[0m\u001b[0;34m(\u001b[0m\u001b[0;36m0\u001b[0m\u001b[0;34m,\u001b[0m\u001b[0;36m2.5\u001b[0m\u001b[0;34m,\u001b[0m\u001b[0;36m100\u001b[0m\u001b[0;34m)\u001b[0m\u001b[0;34m\u001b[0m\u001b[0;34m\u001b[0m\u001b[0m\n",
      "\u001b[0;31mValueError\u001b[0m: too many values to unpack (expected 2)"
     ]
    }
   ],
   "source": [
    "X = np.ones((N, 2))\n",
    "X[:,1] = data['R']\n",
    "params, _, _, _ = np.linalg.lstsq(X, data['V'])\n",
    "print(params)\n",
    "inter, H0 = params\n",
    "\n",
    "R = np.linspace(0,2.5,100)\n",
    "fig = plt.figure()\n",
    "ax = fig.add_subplot(111)\n",
    "ax.scatter(data['R'], data['V'])\n",
    "ax.plot(R, H0*R + inter, 'k--')\n",
    "ax.set_xlim(xmin=0, xmax=2.5)\n",
    "ax.set_xlabel('Distance [Mpc]')\n",
    "ax.set_ylabel('Velocity [km/s]')"
   ]
  },
  {
   "cell_type": "markdown",
   "metadata": {},
   "source": [
    "## Correcting for motion of the sun\n",
    "\n",
    "$V$ as given in the table is a combination of any assumed cosmic expansion and the motion of the sun with respect to that cosmic frame. So, we need to generalize the model to $V=H_0 R + V_s$, where the solar velocity is given by $V_s = X \\cos(RA)\\cos(DEC) + Y\\sin(RA)\\cos(DEC)+Z\\sin(DEC)$. We'll use `astropy` to read in the RA/DEC coordinate strings and properly convert them to degrees (and then radians):"
   ]
  },
  {
   "cell_type": "code",
   "execution_count": 12,
   "metadata": {},
   "outputs": [],
   "source": [
    "import astropy.coordinates as coord\n",
    "import astropy.units as u\n",
    "import numpy as np\n",
    "\n",
    "pos = coord.SkyCoord(ra=data['RA'].astype('U8'), dec=data['DEC'].astype('U9'), unit=(u.hourangle,u.deg),frame='fk5')\n",
    "ra_ = pos.ra.to(u.deg).value * np.pi/180\n",
    "dec_ = pos.dec.to(u.deg).value * np.pi/180"
   ]
  },
  {
   "cell_type": "markdown",
   "metadata": {},
   "source": [
    "### Exercise 3:\n",
    "\n",
    "Construct a new $N\\times4$ design matrix for the four unknown parameters $H_0$, $X$, $Y$, $Z$ to account for the solar motion. The resulting $H_0$ is Hubble's own version of the \"Hubble constant\". What do you get?"
   ]
  },
  {
   "cell_type": "code",
   "execution_count": 16,
   "metadata": {},
   "outputs": [
    {
     "name": "stdout",
     "output_type": "stream",
     "text": [
      "[ 465.17797833  -67.84096674  236.14706994 -199.58892695]\n"
     ]
    },
    {
     "name": "stderr",
     "output_type": "stream",
     "text": [
      "/home/ishanikulkarni/anaconda3/lib/python3.7/site-packages/ipykernel_launcher.py:2: FutureWarning: `rcond` parameter will change to the default of machine precision times ``max(M, N)`` where M and N are the input matrix dimensions.\n",
      "To use the future default and silence this warning we advise to pass `rcond=None`, to keep using the old, explicitly pass `rcond=-1`.\n",
      "  \n"
     ]
    }
   ],
   "source": [
    "Ah = np.column_stack((data['R'], np.cos(ra_)*np.cos(dec_), np.sin(ra_)*np.cos(dec_), np.sin(dec_)))\n",
    "params_h, _, _, _ = np.linalg.lstsq(Ah, data['V'])\n",
    "print(params_h)\n",
    "H0 = params_h[0] "
   ]
  },
  {
   "cell_type": "markdown",
   "metadata": {},
   "source": [
    "Make a scatter plot of $V-V_S$ vs $R$. How is it different from the previous one without the correction for solar velicity. Add the best-fit linear regression line."
   ]
  },
  {
   "cell_type": "code",
   "execution_count": 17,
   "metadata": {},
   "outputs": [
    {
     "data": {
      "text/plain": [
       "<matplotlib.collections.PathCollection at 0x7f671be9b518>"
      ]
     },
     "execution_count": 17,
     "metadata": {},
     "output_type": "execute_result"
    },
    {
     "data": {
      "image/png": "[encoded data removed]",
      "text/plain": [
       "<Figure size 432x288 with 1 Axes>"
      ]
     },
     "metadata": {
      "needs_background": "light"
     },
     "output_type": "display_data"
    }
   ],
   "source": [
    "VS = params_h[1]*data['R'] + params_h[2]*np.cos(ra_)*np.cos(dec_) + params_h[3]*np.sin(ra_)*np.cos(dec_)\n",
    "fig = plt.figure()\n",
    "ax = fig.add_subplot(111)\n",
    "ax.scatter(data['R'], data['V'] - VS)"
   ]
  },
  {
   "cell_type": "markdown",
   "metadata": {},
   "source": [
    "### Exercise 4:\n",
    "\n",
    "Using `astropy.units`, can you estimate the age of the universe from $H_0$? Does it make sense?"
   ]
  },
  {
   "cell_type": "code",
   "execution_count": 18,
   "metadata": {},
   "outputs": [
    {
     "data": {
      "text/latex": [
       "$2.1019744 \\; \\mathrm{Gyr}$"
      ],
      "text/plain": [
       "<Quantity 2.10197444 Gyr>"
      ]
     },
     "execution_count": 18,
     "metadata": {},
     "output_type": "execute_result"
    }
   ],
   "source": [
    "H0q = H0 * u.km / u.s / u.Mpc\n",
    "(1./H0q).to(u.Gyr)"
   ]
  },
  {
   "cell_type": "markdown",
   "metadata": {},
   "source": [
    "## Measurement errors\n",
    "\n",
    "So far we have not incorporated any measurement uncertainties. \n",
    "\n",
    "###  Exercise 5:\n",
    "Can you guess or estimate them from the scatter with respect to the best-fit line? You may want to look at the residuals with respect to the best-fit model.\n",
    "\n",
    "With this error estimate, construct a covariance matrix $\\Sigma$ and repeat the linear regression, this time with errors, to get a new estimate of $H_0$. Has it changed?"
   ]
  },
  {
   "cell_type": "code",
   "execution_count": null,
   "metadata": {},
   "outputs": [],
   "source": []
  },
  {
   "cell_type": "markdown",
   "metadata": {},
   "source": [
    "### Exercise 6:\n",
    "\n",
    "Compute the parameter covariance matrix and read off the variance of $H_0$. Update your plot to illustrate that uncertainty.\n",
    "\n",
    "How large is the relative error?  Would that help with the problematic age estimate above? If not, what do you think is going on?"
   ]
  },
  {
   "cell_type": "code",
   "execution_count": null,
   "metadata": {},
   "outputs": [],
   "source": []
  }
 ],
 "metadata": {
  "kernelspec": {
   "display_name": "Python 3",
   "language": "python",
   "name": "python3"
  },
  "language_info": {
   "codemirror_mode": {
    "name": "ipython",
    "version": 3
   },
   "file_extension": ".py",
   "mimetype": "text/x-python",
   "name": "python",
   "nbconvert_exporter": "python",
   "pygments_lexer": "ipython3",
   "version": "3.7.3"
  }
 },
 "nbformat": 4,
 "nbformat_minor": 2
}
