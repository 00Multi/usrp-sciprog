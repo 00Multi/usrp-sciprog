{
 "cells": [
  {
   "cell_type": "code",
   "execution_count": 1,
   "metadata": {
    "collapsed": false
   },
   "outputs": [],
   "source": [
    "import numpy as np\n",
    "\n",
    "from rotation import rotation, circle"
   ]
  },
  {
   "cell_type": "code",
   "execution_count": 2,
   "metadata": {
    "collapsed": false
   },
   "outputs": [
    {
     "data": {
      "text/plain": [
       "array([[ 0.8660254,  0.5      ],\n",
       "       [-0.5      ,  0.8660254]])"
      ]
     },
     "execution_count": 2,
     "metadata": {},
     "output_type": "execute_result"
    }
   ],
   "source": [
    "rotation(30)"
   ]
  },
  {
   "cell_type": "code",
   "execution_count": 3,
   "metadata": {
    "collapsed": false
   },
   "outputs": [
    {
     "data": {
      "text/plain": [
       "array([[ 1.        ,  0.        ],\n",
       "       [ 0.40808206,  0.91294525],\n",
       "       [-0.66693806,  0.74511316],\n",
       "       [-0.95241298, -0.30481062],\n",
       "       [-0.11038724, -0.99388865],\n",
       "       [ 0.86231887, -0.50636564],\n",
       "       [ 0.81418097,  0.58061118],\n",
       "       [-0.19781357,  0.98023966],\n",
       "       [-0.97562931,  0.21942526],\n",
       "       [-0.59846007, -0.80115264],\n",
       "       [ 0.48718768, -0.8732973 ],\n",
       "       [ 0.99608517,  0.08839871],\n",
       "       [ 0.32578131,  0.94544515],\n",
       "       [-0.73019416,  0.6832397 ],\n",
       "       [-0.92173958, -0.38780942],\n",
       "       [-0.02209662, -0.99975584],\n",
       "       [ 0.90370511, -0.42815543],\n",
       "       [ 0.75966831,  0.65031074]])"
      ]
     },
     "execution_count": 3,
     "metadata": {},
     "output_type": "execute_result"
    }
   ],
   "source": [
    "circle()"
   ]
  },
  {
   "cell_type": "code",
   "execution_count": null,
   "metadata": {
    "collapsed": true
   },
   "outputs": [],
   "source": []
  }
 ],
 "metadata": {
  "kernelspec": {
   "display_name": "Python 2",
   "language": "python",
   "name": "python2"
  },
  "language_info": {
   "codemirror_mode": {
    "name": "ipython",
    "version": 2
   },
   "file_extension": ".py",
   "mimetype": "text/x-python",
   "name": "python",
   "nbconvert_exporter": "python",
   "pygments_lexer": "ipython2",
   "version": "2.7.11"
  }
 },
 "nbformat": 4,
 "nbformat_minor": 0
}
