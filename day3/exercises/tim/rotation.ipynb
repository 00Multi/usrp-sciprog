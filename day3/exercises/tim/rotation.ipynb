{
 "cells": [
  {
   "cell_type": "code",
   "execution_count": 1,
   "metadata": {
    "collapsed": false
   },
   "outputs": [],
   "source": [
    "import numpy as np\n",
    "\n",
    "from rotation import rotation, circle"
   ]
  },
  {
   "cell_type": "code",
   "execution_count": 2,
   "metadata": {
    "collapsed": false
   },
   "outputs": [
    {
     "data": {
      "text/plain": [
       "array([[ 0.8660254,  0.5      ],\n",
       "       [-0.5      ,  0.8660254]])"
      ]
     },
     "execution_count": 2,
     "metadata": {},
     "output_type": "execute_result"
    }
   ],
   "source": [
    "rotation(30)"
   ]
  },
  {
   "cell_type": "code",
   "execution_count": 4,
   "metadata": {
    "collapsed": false
   },
   "outputs": [
    {
     "data": {
      "text/plain": [
       "array([[ 1.   ,  0.   ],\n",
       "       [ 0.94 ,  0.342],\n",
       "       [ 0.766,  0.643],\n",
       "       [ 0.5  ,  0.866],\n",
       "       [ 0.174,  0.985],\n",
       "       [-0.174,  0.985],\n",
       "       [-0.5  ,  0.866],\n",
       "       [-0.766,  0.643],\n",
       "       [-0.94 ,  0.342],\n",
       "       [-1.   ,  0.   ],\n",
       "       [-0.94 , -0.342],\n",
       "       [-0.766, -0.643],\n",
       "       [-0.5  , -0.866],\n",
       "       [-0.174, -0.985],\n",
       "       [ 0.174, -0.985],\n",
       "       [ 0.5  , -0.866],\n",
       "       [ 0.766, -0.643],\n",
       "       [ 0.94 , -0.342]])"
      ]
     },
     "execution_count": 4,
     "metadata": {},
     "output_type": "execute_result"
    }
   ],
   "source": [
    "circle().round(3)"
   ]
  },
  {
   "cell_type": "code",
   "execution_count": null,
   "metadata": {
    "collapsed": true
   },
   "outputs": [],
   "source": []
  }
 ],
 "metadata": {
  "kernelspec": {
   "display_name": "Python 2",
   "language": "python",
   "name": "python2"
  },
  "language_info": {
   "codemirror_mode": {
    "name": "ipython",
    "version": 2
   },
   "file_extension": ".py",
   "mimetype": "text/x-python",
   "name": "python",
   "nbconvert_exporter": "python",
   "pygments_lexer": "ipython2",
   "version": "2.7.11"
  }
 },
 "nbformat": 4,
 "nbformat_minor": 0
}
